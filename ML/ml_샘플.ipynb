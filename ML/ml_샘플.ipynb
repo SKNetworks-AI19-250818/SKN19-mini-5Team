{
 "cells": [
  {
   "cell_type": "markdown",
   "id": "55b40da2",
   "metadata": {},
   "source": [
    "# SKN 19기 mini-project 5팀(팀명: 여권어디있지) M/L"
   ]
  },
  {
   "cell_type": "code",
   "execution_count": null,
   "id": "57913706",
   "metadata": {},
   "outputs": [],
   "source": [
    "import numpy as np\n",
    "import pandas as pd\n",
    "import matplotlib.pyplot as plt\n",
    "import seaborn as sns\n",
    "import warnings\n",
    "warnings.filterwarnings('ignore')\n",
    "\n",
    "\n",
    "# pandas 출력 옵션\n",
    "pd.set_option('display.float_format', '{:.2f}'.format)\n",
    "\n",
    "# 한글 폰트 사용을 위한 설정\n",
    "import matplotlib.font_manager as fm\n",
    "import matplotlib\n",
    "\n",
    "font_path = 'C:\\\\Windows\\\\Fonts\\\\gulim.ttc'\n",
    "font = fm.FontProperties(fname=font_path).get_name()\n",
    "matplotlib.rc('font', family=font)"
   ]
  },
  {
   "cell_type": "markdown",
   "id": "369d9f77",
   "metadata": {},
   "source": [
    "## 데이터 로드"
   ]
  },
  {
   "cell_type": "code",
   "execution_count": null,
   "id": "9879833d",
   "metadata": {},
   "outputs": [],
   "source": [
    "# 데이터 로드\n",
    "# 6. 데이터 변환 및 피처 엔지니어링\n",
    "# 7. 데이터 분할"
   ]
  },
  {
   "cell_type": "code",
   "execution_count": null,
   "id": "56afc72e",
   "metadata": {},
   "outputs": [],
   "source": [
    "df_listings = pd.read_csv('./data/listings.csv')\n",
    "\n",
    "df_listings.head(5)"
   ]
  },
  {
   "cell_type": "code",
   "execution_count": null,
   "id": "e7436bd0",
   "metadata": {},
   "outputs": [],
   "source": [
    "# 모델 학습"
   ]
  }
 ],
 "metadata": {
  "kernelspec": {
   "display_name": "ml_env",
   "language": "python",
   "name": "python3"
  },
  "language_info": {
   "codemirror_mode": {
    "name": "ipython",
    "version": 3
   },
   "file_extension": ".py",
   "mimetype": "text/x-python",
   "name": "python",
   "nbconvert_exporter": "python",
   "pygments_lexer": "ipython3",
   "version": "3.12.11"
  }
 },
 "nbformat": 4,
 "nbformat_minor": 5
}
