{
 "cells": [
  {
   "cell_type": "markdown",
   "id": "55b40da2",
   "metadata": {},
   "source": [
    "# SKN 19기 mini-project 5팀(팀명: 여권어디있지) M/L"
   ]
  },
  {
   "cell_type": "code",
   "execution_count": null,
   "id": "57913706",
   "metadata": {},
   "outputs": [],
   "source": [
    "import numpy as np\n",
    "import pandas as pd\n",
    "import matplotlib.pyplot as plt\n",
    "import seaborn as sns\n",
    "import warnings\n",
    "warnings.filterwarnings('ignore')\n",
    "\n",
    "\n",
    "# pandas 출력 옵션\n",
    "pd.set_option('display.float_format', '{:.2f}'.format)\n",
    "\n",
    "# 한글 폰트 사용을 위한 설정\n",
    "import matplotlib.font_manager as fm\n",
    "import matplotlib\n",
    "\n",
    "font_path = 'C:\\\\Windows\\\\Fonts\\\\gulim.ttc'\n",
    "font = fm.FontProperties(fname=font_path).get_name()\n",
    "matplotlib.rc('font', family=font)"
   ]
  },
  {
   "cell_type": "code",
   "execution_count": null,
   "id": "8eb88def",
   "metadata": {},
   "outputs": [],
   "source": [
    "df_listings.info()"
   ]
  },
  {
   "cell_type": "code",
   "execution_count": null,
   "id": "56afc72e",
   "metadata": {},
   "outputs": [],
   "source": [
    "df_listings = pd.read_csv('./data/listings.csv')"
   ]
  },
  {
   "cell_type": "code",
   "execution_count": null,
   "id": "364945ab",
   "metadata": {},
   "outputs": [],
   "source": [
    "df_listings.head(5)"
   ]
  },
  {
   "cell_type": "code",
   "execution_count": null,
   "id": "2a1f2a50",
   "metadata": {},
   "outputs": [],
   "source": [
    "# from sklearn.preprocessing import OneHotEncoder\n",
    "# oh_enc = OneHotEncoder(sparse_output=False)\n",
    "# oh_enc.fit(df_listings[['neighbourhood_cleansed']])\n",
    "# encoded_array = oh_enc.transform(df_listings[['neighbourhood_cleansed']])\n",
    "# feature_names = oh_enc.get_feature_names_out(['neighbourhood_cleansed'])\n",
    "# encoded_df = pd.DataFrame(encoded_array, columns=feature_names, index=df_listings.index)\n",
    "# df_listings = pd.concat([df_listings.drop('neighbourhood_cleansed', axis=1), encoded_df], axis=1)"
   ]
  },
  {
   "cell_type": "code",
   "execution_count": null,
   "id": "f0e4d8d8",
   "metadata": {},
   "outputs": [],
   "source": [
    "# # 원래 컬럼을 제외하고 더미 변수 생성 후 합치기\n",
    "# df_listings = pd.concat([\n",
    "#     df_listings.drop('neighbourhood_cleansed', axis=1), \n",
    "#     pd.get_dummies(df_listings['neighbourhood_cleansed'], prefix='neighbourhood')\n",
    "# ], axis=1)"
   ]
  },
  {
   "cell_type": "code",
   "execution_count": null,
   "id": "87b1f200",
   "metadata": {},
   "outputs": [],
   "source": [
    "# neighbourhood_price_mean = df_listings.groupby('neighbourhood_cleansed')['price'].mean()\n",
    "# df_listings['neighbourhood_cleansed'] = df_listings['neighbourhood_cleansed'].map(neighbourhood_price_mean)\n",
    "\n",
    "\n",
    "def target_encode(df, column_name):\n",
    "    col_mean = df.groupby(column_name)['price'].mean()\n",
    "    return df[column_name].map(col_mean)\n",
    "\n",
    "\n",
    "# neighbourhood_cleansed\tproperty_type\troom_type\n",
    "\n",
    "df_listings['neighbourhood_cleansed_te'] = target_encode(df_listings,'neighbourhood_cleansed')\n",
    "df_listings['property_type_te'] = target_encode(df_listings,'property_type')\n",
    "df_listings['room_type_te'] = target_encode(df_listings,'room_type')"
   ]
  },
  {
   "cell_type": "code",
   "execution_count": null,
   "id": "5a9978fc",
   "metadata": {},
   "outputs": [],
   "source": [
    "from sklearn.preprocessing import LabelEncoder\n",
    "\n",
    "\n",
    "df_listings['neighbourhood_cleansed_le'] = LabelEncoder().fit_transform(df_listings['neighbourhood_cleansed'])\n",
    "df_listings['property_type_le'] = LabelEncoder().fit_transform(df_listings['property_type'])\n",
    "df_listings['room_type_le'] = LabelEncoder().fit_transform(df_listings['room_type'])"
   ]
  },
  {
   "cell_type": "code",
   "execution_count": null,
   "id": "ad856b48",
   "metadata": {},
   "outputs": [],
   "source": [
    "heat_map_columns = [\n",
    "        'price', 'accommodates', 'bathrooms', 'bedrooms', 'beds', 'review_scores_rating',\n",
    "        'neighbourhood_cleansed_te','property_type_te', 'room_type_te',\n",
    "        'neighbourhood_cleansed_le','property_type_le', 'room_type_le'\n",
    "        ]\n",
    "\n",
    "# 상관계수 히트맵\n",
    "heat_map_corr = df_listings[heat_map_columns].corr()\n",
    "plt.figure(figsize=(8,6))\n",
    "sns.heatmap(heat_map_corr, annot=True, cmap=\"coolwarm\", fmt=\".2f\")\n",
    "# plt.title(\"상관계수 히트맵 : 로그화된 리뷰 수 컬럼과 가격의 상관 관계 분석\")\n",
    "plt.xticks(rotation=75) \n",
    "plt.show()\n",
    "\n",
    "\n",
    "# 비선형적 관계에서는 히트맵이 잘 안나온다.\n",
    "# 타겟 인코딩은 히트맵에서 관계가 잘 나올 수 밖에 없다."
   ]
  },
  {
   "cell_type": "code",
   "execution_count": null,
   "id": "1ca03eaa",
   "metadata": {},
   "outputs": [],
   "source": [
    "df_listings.info()"
   ]
  }
 ],
 "metadata": {
  "kernelspec": {
   "display_name": "ml_env",
   "language": "python",
   "name": "python3"
  },
  "language_info": {
   "codemirror_mode": {
    "name": "ipython",
    "version": 3
   },
   "file_extension": ".py",
   "mimetype": "text/x-python",
   "name": "python",
   "nbconvert_exporter": "python",
   "pygments_lexer": "ipython3",
   "version": "3.12.11"
  }
 },
 "nbformat": 4,
 "nbformat_minor": 5
}
