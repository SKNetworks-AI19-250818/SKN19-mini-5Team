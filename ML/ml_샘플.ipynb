{
 "cells": [
  {
   "cell_type": "markdown",
   "id": "55b40da2",
   "metadata": {},
   "source": [
    "# SKN 19기 mini-project 5팀(팀명: 여권어디있지) M/L"
   ]
  },
  {
   "cell_type": "code",
   "execution_count": null,
   "id": "57913706",
   "metadata": {},
   "outputs": [],
   "source": [
    "import numpy as np\n",
    "import pandas as pd\n",
    "import matplotlib.pyplot as plt\n",
    "import seaborn as sns\n",
    "import warnings\n",
    "warnings.filterwarnings('ignore')\n",
    "\n",
    "\n",
    "# pandas 출력 옵션\n",
    "pd.set_option('display.float_format', '{:.2f}'.format)\n",
    "\n",
    "# 한글 폰트 사용을 위한 설정\n",
    "import matplotlib.font_manager as fm\n",
    "import matplotlib\n",
    "\n",
    "font_path = 'C:\\\\Windows\\\\Fonts\\\\gulim.ttc'\n",
    "font = fm.FontProperties(fname=font_path).get_name()\n",
    "matplotlib.rc('font', family=font)"
   ]
  },
  {
   "cell_type": "code",
   "execution_count": null,
   "id": "56afc72e",
   "metadata": {},
   "outputs": [],
   "source": [
    "df_listings = pd.read_csv('./data/listings.csv.gz', compression='gzip')"
   ]
  }
 ],
 "metadata": {
  "language_info": {
   "name": "python"
  }
 },
 "nbformat": 4,
 "nbformat_minor": 5
}
