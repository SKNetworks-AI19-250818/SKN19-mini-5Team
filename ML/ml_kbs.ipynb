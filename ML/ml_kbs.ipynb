{
 "cells": [
  {
   "cell_type": "markdown",
   "id": "55b40da2",
   "metadata": {},
   "source": [
    "# # SKN 19기 mini-project 5팀(팀명: 여권어디있지) M/L"
   ]
  },
  {
   "cell_type": "markdown",
   "id": "fe4d996c",
   "metadata": {},
   "source": [
    "## ## 필수 라이브러리 import"
   ]
  },
  {
   "cell_type": "code",
   "execution_count": 43,
   "id": "1db28f00",
   "metadata": {},
   "outputs": [],
   "source": [
    "# !pip install lightgbm\n",
    "# !pip install optuna\n",
    "# !pip install xgboost"
   ]
  },
  {
   "cell_type": "code",
   "execution_count": 44,
   "id": "57913706",
   "metadata": {},
   "outputs": [],
   "source": [
    "import numpy as np\n",
    "import pandas as pd\n",
    "import matplotlib.pyplot as plt\n",
    "import seaborn as sns\n",
    "import warnings\n",
    "warnings.filterwarnings('ignore')\n",
    "\n",
    "\n",
    "# pandas 출력 옵션\n",
    "pd.set_option('display.float_format', '{:.2f}'.format)\n",
    "\n",
    "\n",
    "# 한글 폰트 사용을 위한 설정\n",
    "import matplotlib.font_manager as fm\n",
    "import matplotlib\n",
    "\n",
    "font_path = 'C:\\\\Windows\\\\Fonts\\\\gulim.ttc'\n",
    "font = fm.FontProperties(fname=font_path).get_name()\n",
    "matplotlib.rc('font', family=font)"
   ]
  },
  {
   "cell_type": "markdown",
   "id": "8d063e58",
   "metadata": {},
   "source": [
    "## ## 인코딩 저장, 불러오기 (Steamlit에서 불러오기 용도)"
   ]
  },
  {
   "cell_type": "code",
   "execution_count": 45,
   "id": "4c512211",
   "metadata": {},
   "outputs": [],
   "source": [
    "#------------------------------------------------------------\n",
    "# 인코딩 저장, 불러오기\n",
    "#------------------------------------------------------------\n",
    "\n",
    "import json\n",
    "from sklearn.preprocessing import LabelEncoder\n",
    "import pathlib\n",
    "import numpy as np\n",
    "\n",
    "def save_encoding(encoder_name: str, encoder_obj: LabelEncoder):\n",
    "    file_path = \"./assets/\" + encoder_name + \".json\"\n",
    "    p = pathlib.Path(file_path)\n",
    "    directory_path = p.parent\n",
    "    directory_path.mkdir(parents=True, exist_ok=True)\n",
    "\n",
    "    with open(file_path, 'w', encoding='utf-8') as f:\n",
    "        json.dump(encoder_obj.classes_.tolist(), f, ensure_ascii=False, indent=4)\n",
    "    print(f'파일: {file_path} 저장완료')\n",
    "\n",
    "\n",
    "def load_encoding(file_path: str):\n",
    "    # file_path = \"./assets/\" + encoder_name + \".json\"\n",
    "    p = pathlib.Path(file_path)\n",
    "\n",
    "    if not p.exists():\n",
    "        print(f\"오류: 파일 {file_path} 를 찾을 수 없습니다.\")\n",
    "        return None\n",
    "\n",
    "    try:\n",
    "        with open(file_path, 'r', encoding='utf-8') as f:\n",
    "            classes_list = json.load(f)        \n",
    "        encoder_obj = LabelEncoder()\n",
    "        encoder_obj.classes_ = np.array(classes_list)  # numpy 배열로 변환\n",
    "        \n",
    "        print(f'파일: {file_path} 로부터 인코더 로드 완료')\n",
    "        return encoder_obj\n",
    "        \n",
    "    except json.JSONDecodeError:\n",
    "        print(f\"오류: 파일 {file_path} 의 JSON 형식이 올바르지 않습니다.\")\n",
    "        return None\n",
    "    except Exception as e:\n",
    "        print(f\"인코더 로드 중 알 수 없는 오류 발생: {e}\")\n",
    "        return None"
   ]
  },
  {
   "cell_type": "markdown",
   "id": "f68d8d43",
   "metadata": {},
   "source": [
    "## ## 모델 평가용 메서드"
   ]
  },
  {
   "cell_type": "code",
   "execution_count": 46,
   "id": "0c08ad61",
   "metadata": {},
   "outputs": [],
   "source": [
    "# 다른 평가 지표\n",
    "from sklearn.metrics import mean_squared_error, root_mean_squared_error, mean_absolute_error, r2_score\n",
    "\n",
    "# 회귀를 평가하는 함수\n",
    "def evaluate_regression(y_true, y_pred):\n",
    "    mse = mean_squared_error(y_true,y_pred)\n",
    "    rmse = root_mean_squared_error(y_true,y_pred)\n",
    "    mae = mean_absolute_error(y_true,y_pred)\n",
    "    r2 = r2_score(y_true,y_pred)\n",
    "    print(f'MSE: {mse}, RMSE: {rmse}, MAE: {mae}, R2: {r2}')"
   ]
  },
  {
   "cell_type": "markdown",
   "id": "2369db3e",
   "metadata": {},
   "source": [
    "## ## 파일 로드"
   ]
  },
  {
   "cell_type": "code",
   "execution_count": 47,
   "id": "56afc72e",
   "metadata": {},
   "outputs": [
    {
     "name": "stdout",
     "output_type": "stream",
     "text": [
      "<class 'pandas.core.frame.DataFrame'>\n",
      "RangeIndex: 22983 entries, 0 to 22982\n",
      "Data columns (total 38 columns):\n",
      " #   Column                      Non-Null Count  Dtype  \n",
      "---  ------                      --------------  -----  \n",
      " 0   neighbourhood_cleansed      22983 non-null  object \n",
      " 1   property_type               22983 non-null  object \n",
      " 2   room_type                   22983 non-null  object \n",
      " 3   accommodates                22983 non-null  int64  \n",
      " 4   bathrooms                   22983 non-null  float64\n",
      " 5   bedrooms                    22983 non-null  float64\n",
      " 6   beds                        22983 non-null  float64\n",
      " 7   price                       22983 non-null  float64\n",
      " 8   number_of_reviews           22983 non-null  int64  \n",
      " 9   first_review                19865 non-null  object \n",
      " 10  review_scores_rating        19865 non-null  float64\n",
      " 11  amnt_self_checkin           22983 non-null  int64  \n",
      " 12  amnt_instant_book           22983 non-null  int64  \n",
      " 13  amnt_kitchen                22983 non-null  int64  \n",
      " 14  amnt_hair_dryer             22983 non-null  int64  \n",
      " 15  amnt_free_parking           22983 non-null  int64  \n",
      " 16  amnt_wifi                   22983 non-null  int64  \n",
      " 17  amnt_private_bathroom       22983 non-null  int64  \n",
      " 18  amnt_bbq_grill              22983 non-null  int64  \n",
      " 19  amnt_washer                 22983 non-null  int64  \n",
      " 20  amnt_pets_allowed           22983 non-null  int64  \n",
      " 21  amnt_clothes_dryer          22983 non-null  int64  \n",
      " 22  amnt_heating                22983 non-null  int64  \n",
      " 23  amnt_air_conditioning       22983 non-null  int64  \n",
      " 24  amnt_workspace              22983 non-null  int64  \n",
      " 25  amnt_iron                   22983 non-null  int64  \n",
      " 26  amnt_pool                   22983 non-null  int64  \n",
      " 27  amnt_bathtub                22983 non-null  int64  \n",
      " 28  amnt_ev_charger             22983 non-null  int64  \n",
      " 29  amnt_crib                   22983 non-null  int64  \n",
      " 30  amnt_king_bed               22983 non-null  int64  \n",
      " 31  amnt_gym                    22983 non-null  int64  \n",
      " 32  amnt_breakfast              22983 non-null  int64  \n",
      " 33  amnt_fireplace              22983 non-null  int64  \n",
      " 34  amnt_smoking_allowed        22983 non-null  int64  \n",
      " 35  amnt_waterfront             22983 non-null  int64  \n",
      " 36  amnt_smoke_alarm            22983 non-null  int64  \n",
      " 37  amnt_carbon_monoxide_alarm  22983 non-null  int64  \n",
      "dtypes: float64(5), int64(29), object(4)\n",
      "memory usage: 6.7+ MB\n"
     ]
    }
   ],
   "source": [
    "df_listings = pd.read_csv('./data/listings_cleaned_1st.csv')\n",
    "df_listings.info()"
   ]
  },
  {
   "cell_type": "markdown",
   "id": "798e3273",
   "metadata": {},
   "source": [
    "## ## 데이터 변환 및 피처 엔지니어링"
   ]
  },
  {
   "cell_type": "code",
   "execution_count": 48,
   "id": "3d6bbc3b",
   "metadata": {},
   "outputs": [],
   "source": [
    "\"\"\" 라벨인코딩은 원핫인코딩으로 대체\n",
    "\n",
    "\n",
    "# 라벨 인코딩\n",
    "from sklearn.preprocessing import LabelEncoder\n",
    "\n",
    "le_neighbourhood_cleansed = LabelEncoder()\n",
    "le_property_type = LabelEncoder()\n",
    "le_room_type = LabelEncoder()\n",
    "\n",
    "df_listings[\"neighbourhood_cleansed\"] = le_neighbourhood_cleansed.fit_transform(df_listings[\"neighbourhood_cleansed\"])\n",
    "df_listings[\"property_type\"] = le_property_type.fit_transform(df_listings[\"property_type\"])\n",
    "df_listings[\"room_type\"] = le_room_type.fit_transform(df_listings[\"room_type\"])\n",
    "\n",
    "# 인코딩 저장 = predict 용도\n",
    "save_encoding('le_neighbourhood_cleansed',le_neighbourhood_cleansed)\n",
    "save_encoding('le_property_type',le_property_type)\n",
    "save_encoding('le_room_type',le_room_type)\"\"\"\n",
    "\n",
    "\n",
    "from sklearn.preprocessing import LabelEncoder\n",
    "\n",
    "le_neighbourhood_cleansed = LabelEncoder()\n",
    "le_property_type = LabelEncoder()\n",
    "le_room_type = LabelEncoder()\n",
    "\n",
    "df_listings[\"neighbourhood_cleansed\"] = le_neighbourhood_cleansed.fit_transform(df_listings[\"neighbourhood_cleansed\"])\n",
    "df_listings[\"property_type\"] = le_property_type.fit_transform(df_listings[\"property_type\"])\n",
    "df_listings[\"room_type\"] = le_room_type.fit_transform(df_listings[\"room_type\"])\n",
    "\n",
    "\n",
    "\n"
   ]
  },
  {
   "cell_type": "code",
   "execution_count": 49,
   "id": "feeb6d64",
   "metadata": {},
   "outputs": [],
   "source": [
    "# 피처 엔지니어링\n",
    "\n",
    "# days_since_first_review 추가\n",
    "if False:\n",
    "    df_listings['first_review'] = pd.to_datetime(df_listings['first_review'], errors='coerce')\n",
    "    reference_date = pd.to_datetime('2025-06-27')\n",
    "    df_listings['days_since_first_review'] = (reference_date - df_listings['first_review']).dt.days"
   ]
  },
  {
   "cell_type": "code",
   "execution_count": 50,
   "id": "8ee5a1d7",
   "metadata": {},
   "outputs": [],
   "source": [
    "# 추가 드롭 목록\n",
    "\n",
    "# 드롭 목록\n",
    "drop_list = [\n",
    "    'number_of_reviews',    # 리뷰 갯수\n",
    "    'first_review',          # 첫 리뷰 일자\n",
    "    #'review_scores_rating',\n",
    "    # 'review_scores_rating'\n",
    "]\n",
    "\n",
    "df_listings = df_listings.drop(drop_list, axis=1)"
   ]
  },
  {
   "cell_type": "markdown",
   "id": "3394583e",
   "metadata": {},
   "source": [
    "## ## 모델 학습 및 평가"
   ]
  },
  {
   "cell_type": "code",
   "execution_count": 51,
   "id": "0218c2bd",
   "metadata": {},
   "outputs": [],
   "source": [
    "# feature, label 데이터 분리,\n",
    "# 학습, 평가 데이터 분리\n",
    "\n",
    "from sklearn.model_selection import train_test_split\n",
    "from sklearn.model_selection import cross_val_score, cross_validate\n",
    "from sklearn.preprocessing import StandardScaler\n",
    "from lightgbm import LGBMRegressor\n",
    "import optuna\n",
    "from optuna.logging import WARNING, ERROR\n",
    "\n",
    "\n",
    "x = df_listings.drop('price', axis=1)\n",
    "y = df_listings['price']\n",
    "\n",
    "X_train, X_test, y_train, y_test = train_test_split(x, y, train_size=0.8)"
   ]
  },
  {
   "cell_type": "code",
   "execution_count": 52,
   "id": "3d90f8bd",
   "metadata": {},
   "outputs": [],
   "source": [
    "# lightgbm은 트리 기반이라 스케일링 후 성능이 더 떨어짐\n",
    "\n",
    "# x 데이터 스케일링 \n",
    "\n",
    "# scaler = StandardScaler()\n",
    "\n",
    "# scaler.fit(X_train)\n",
    "# X_train = scaler.transform(X_train)\n",
    "# X_test = scaler.transform(X_test)\n",
    "\n",
    "\n",
    "# price가 너무 커서 로그 처리함\n",
    "y_train = np.log(y_train)\n",
    "y_test = np.log(y_test)"
   ]
  },
  {
   "cell_type": "code",
   "execution_count": 53,
   "id": "a417c8f6",
   "metadata": {},
   "outputs": [],
   "source": [
    "# 하이퍼 파라미터 최적화\n",
    "\n",
    "def print_optimized_hyper_params(X, y):\n",
    "\n",
    "    def lgbm_optuna_objective(trial):\n",
    "        params = {\n",
    "            'n_estimators': trial.suggest_int('n_estimators', 100, 500, 100),\n",
    "            'max_depth': trial.suggest_int('max_depth', 3, 10),\n",
    "            'learning_rate': trial.suggest_float('learning_rate', 0.01, 0.2),\n",
    "            'colsample_bytree': trial.suggest_float('colsample_bytree', 0.5, 1.0),\n",
    "        }\n",
    "\n",
    "        lgbm_reg = LGBMRegressor(**params, n_jobs=-1)\n",
    "        mean_r2 = cross_val_score(lgbm_reg, X, y, scoring='r2', cv=3).mean()\n",
    "        return mean_r2\n",
    "    \n",
    "    optuna.logging.set_verbosity(ERROR) \n",
    "\n",
    "    # 2. study 객체 -> 최적화\n",
    "    study = optuna.create_study(direction=\"maximize\")\n",
    "    study.optimize(lgbm_optuna_objective, n_trials=100)\n",
    "    # 3. 결과 출력\n",
    "\n",
    "    return study.best_value, study.best_params\n",
    "\n",
    "best_value, best_params = None, None\n",
    "\n",
    "#------------------------------------------------------------\n",
    "# optuna 돌릴때 아래 부분 주석 해제\n",
    "#------------------------------------------------------------\n",
    "# best_value, best_params = print_optimized_hyper_params(X_train, y_train)"
   ]
  },
  {
   "cell_type": "code",
   "execution_count": 54,
   "id": "e4804cee",
   "metadata": {},
   "outputs": [
    {
     "name": "stdout",
     "output_type": "stream",
     "text": [
      "None None\n"
     ]
    }
   ],
   "source": [
    "print(best_value, best_params)\n",
    "\n",
    "# 마지막 실행 결과\n",
    "\n",
    "# 0.6922601916488733 {'n_estimators': 500, 'max_depth': 10, 'learning_rate': 0.07550817249873713, 'colsample_bytree': 0.7168073346888015}\n",
    "\n",
    "# n_estimators_optuna = best_params['n_estimators']\n",
    "# max_depth_optuna = best_params['max_depth']\n",
    "# learning_rate_optuna = best_params['learning_rate']\n",
    "# colsample_bytree_optuna = best_params['colsample_bytree']\n",
    "\n",
    "n_estimators_optuna = 500\n",
    "max_depth_optuna = 10\n",
    "learning_rate_optuna = 0.07550817249873713\n",
    "colsample_bytree_optuna = 0.7168073346888015"
   ]
  },
  {
   "cell_type": "code",
   "execution_count": 55,
   "id": "c27ee9e6",
   "metadata": {},
   "outputs": [
    {
     "name": "stdout",
     "output_type": "stream",
     "text": [
      "[LightGBM] [Info] Total Bins 320\n",
      "[LightGBM] [Info] Number of data points in the train set: 14708, number of used features: 32\n",
      "[LightGBM] [Info] Start training from score 9.585897\n",
      "[LightGBM] [Info] Total Bins 321\n",
      "[LightGBM] [Info] Number of data points in the train set: 14709, number of used features: 32\n",
      "[LightGBM] [Info] Start training from score 9.584473\n",
      "[LightGBM] [Warning] No further splits with positive gain, best gain: -inf\n",
      "[LightGBM] [Warning] No further splits with positive gain, best gain: -inf\n",
      "[LightGBM] [Warning] No further splits with positive gain, best gain: -inf\n",
      "[LightGBM] [Warning] No further splits with positive gain, best gain: -inf\n",
      "[LightGBM] [Warning] No further splits with positive gain, best gain: -inf\n",
      "[LightGBM] [Warning] No further splits with positive gain, best gain: -inf\n",
      "[LightGBM] [Warning] No further splits with positive gain, best gain: -inf\n",
      "[LightGBM] [Info] Total Bins 321\n",
      "[LightGBM] [Info] Number of data points in the train set: 14709, number of used features: 32\n",
      "[LightGBM] [Info] Start training from score 9.589622\n",
      "[LightGBM] [Info] Total Bins 322\n",
      "[LightGBM] [Info] Number of data points in the train set: 14709, number of used features: 32\n",
      "[LightGBM] [Info] Start training from score 9.579400\n",
      "[LightGBM] [Warning] No further splits with positive gain, best gain: -inf\n",
      "[LightGBM] [Warning] No further splits with positive gain, best gain: -inf\n",
      "[LightGBM] [Warning] No further splits with positive gain, best gain: -inf\n",
      "[LightGBM] [Info] Total Bins 319\n",
      "[LightGBM] [Info] Number of data points in the train set: 14709, number of used features: 32\n",
      "[LightGBM] [Info] Start training from score 9.586325\n",
      "[LightGBM] [Warning] No further splits with positive gain, best gain: -inf\n",
      "[LightGBM] [Warning] No further splits with positive gain, best gain: -inf\n"
     ]
    }
   ],
   "source": [
    "# 교차 검증\n",
    "\n",
    "lgbm_reg = LGBMRegressor(n_estimators=n_estimators_optuna,  # 트리의 개수\n",
    "                         max_depth=max_depth_optuna,\n",
    "                         learning_rate=learning_rate_optuna, # 학습률\n",
    "                        #  random_state=42,\n",
    "                         colsample_bytree=colsample_bytree_optuna,\n",
    "                         force_row_wise=True, \n",
    "                         n_jobs=-1) # 모든 코어 사용\n",
    "\n",
    "cv_results = cross_validate(\n",
    "    lgbm_reg,\n",
    "    X_train,\n",
    "    y_train,\n",
    "    cv=5, \n",
    "    scoring='r2',\n",
    "    return_estimator=True\n",
    ")\n",
    "\n",
    "# print(\"훈련별 정확도:\", scores)\n",
    "# print(\"모델 정확도:\", np.mean(scores))\n",
    "\n"
   ]
  },
  {
   "cell_type": "code",
   "execution_count": 56,
   "id": "8d8be764",
   "metadata": {},
   "outputs": [
    {
     "name": "stdout",
     "output_type": "stream",
     "text": [
      "최고 R2 점수: 0.7035\n"
     ]
    }
   ],
   "source": [
    "# 교차 검증 최상위 모델 저장\n",
    "\n",
    "# R2 점수가 가장 높게 나온 폴드 인덱스\n",
    "best_r2_index = np.argmax(cv_results['test_score'])\n",
    "\n",
    "# 가장 좋은 성능을 낸 모델을 변수에 저장합니다.\n",
    "best_model = cv_results['estimator'][best_r2_index]\n",
    "\n",
    "print(f\"최고 R2 점수: {cv_results['test_score'][best_r2_index]:.4f}\")\n",
    "# print(\"최고 성능 모델이 'best_model' 변수에 저장되었습니다.\")"
   ]
  },
  {
   "cell_type": "code",
   "execution_count": 57,
   "id": "7de07932",
   "metadata": {},
   "outputs": [
    {
     "name": "stdout",
     "output_type": "stream",
     "text": [
      "[LightGBM] [Info] Total Bins 328\n",
      "[LightGBM] [Info] Number of data points in the train set: 18386, number of used features: 32\n",
      "[LightGBM] [Info] Start training from score 9.585143\n"
     ]
    }
   ],
   "source": [
    "# 최상위 모델 학습\n",
    "\n",
    "best_model.fit(X_train, y_train, categorical_feature=['neighbourhood_cleansed', 'property_type', 'room_type'])\n",
    "y_pred_test = best_model.predict(X_test)\n",
    "y_pred_train = best_model.predict(X_train)"
   ]
  },
  {
   "cell_type": "code",
   "execution_count": 58,
   "id": "60ef4703",
   "metadata": {},
   "outputs": [
    {
     "name": "stdout",
     "output_type": "stream",
     "text": [
      "MSE: 0.07067854793516704, RMSE: 0.2658543735490673, MAE: 0.19974310996567024, R2: 0.8077966254359943\n",
      "MSE: 0.10242946130828935, RMSE: 0.32004602998364057, MAE: 0.23869926486514556, R2: 0.7227831259900128\n"
     ]
    }
   ],
   "source": [
    "evaluate_regression(y_train,y_pred_train)\n",
    "evaluate_regression(y_test,y_pred_test)"
   ]
  },
  {
   "cell_type": "code",
   "execution_count": 59,
   "id": "9ee4cdd6",
   "metadata": {},
   "outputs": [
    {
     "data": {
      "text/plain": [
       "['model_LGBMReg_r2_test_0.72.jobilb']"
      ]
     },
     "execution_count": 59,
     "metadata": {},
     "output_type": "execute_result"
    }
   ],
   "source": [
    "from joblib import dump\n",
    "\n",
    "r2 = r2_score(y_test,y_pred_test)\n",
    "r2_truncated = int(r2 * 100) / 100.0\n",
    "\n",
    "# 첫번째 인자: 모델\n",
    "# 두번째 인자: 파일명\n",
    "dump(best_model, f'model_LGBMReg_r2_test_{r2_truncated}.jobilb') # 모델 저장"
   ]
  },
  {
   "cell_type": "markdown",
   "id": "221caf95",
   "metadata": {},
   "source": [
    "## ## 결과 확인"
   ]
  },
  {
   "cell_type": "code",
   "execution_count": 60,
   "id": "b2a0b193",
   "metadata": {},
   "outputs": [],
   "source": [
    "import json\n",
    "amenities = './data/amenities.json'\n",
    "columns = './data/columns.json'\n",
    "\n",
    "\n",
    "# 📂 불러오기 (Reading)\n",
    "with open(amenities, 'r', encoding='utf-8') as f:\n",
    "    amenity_eng_to_kor = json.load(f)\n",
    "\n",
    "with open(columns, 'r', encoding='utf-8') as f:\n",
    "    columns_ori = json.load(f)\n",
    "\n",
    "# 한글-영어 매핑 딕셔너리 (반대 변환용)\n",
    "# amenity_kor_to_eng = {v: k for k, v in amenity_eng_to_kor.items()}\n",
    "\n"
   ]
  },
  {
   "cell_type": "code",
   "execution_count": 61,
   "id": "283e45d0",
   "metadata": {},
   "outputs": [
    {
     "data": {
      "text/plain": [
       "['정제된 숙소 지역 이름',\n",
       " '숙소의 종류',\n",
       " '숙소의 방 유형',\n",
       " '숙소가 수용 가능한 최대 인원 수',\n",
       " '숙소의 욕실 개수',\n",
       " '숙소의 침실 개수',\n",
       " '숙소의 침대 개수',\n",
       " '총 리뷰 점수(별점)의 평균값',\n",
       " '셀프 체크인',\n",
       " '즉시예약',\n",
       " '주방',\n",
       " '헤어드라이어',\n",
       " '무료 주차 공간',\n",
       " '와이파이',\n",
       " '침실에 딸린 개인 욕실',\n",
       " '바베큐 그릴',\n",
       " '세탁기',\n",
       " '반려동물 동반 가능',\n",
       " '건조기',\n",
       " '난방',\n",
       " '냉방',\n",
       " '업무 전용 공간',\n",
       " '다리미',\n",
       " '수영장',\n",
       " '대형 욕조',\n",
       " '전기차 충전시설',\n",
       " '아기 침대',\n",
       " '킹사이즈 침대',\n",
       " '헬스장',\n",
       " '조식',\n",
       " '실내 벽난로',\n",
       " '흡연 가능',\n",
       " '수변',\n",
       " '화재경보기',\n",
       " '일산화탄소 경보기']"
      ]
     },
     "execution_count": 61,
     "metadata": {},
     "output_type": "execute_result"
    }
   ],
   "source": [
    "# 스코어 컬럼 남기기\n",
    "columns_kor = [amenity_eng_to_kor.get(col.replace('amnt_',''), col) for col in X_train.columns]\n",
    "columns_kor = [columns_ori.get(col.replace('amnt_',''), col) for col in columns_kor]\n",
    "\n",
    "\n",
    "columns_kor\n",
    "# columns_kor = "
   ]
  },
  {
   "cell_type": "code",
   "execution_count": 62,
   "id": "ce77a7f1",
   "metadata": {},
   "outputs": [],
   "source": [
    "# importances"
   ]
  },
  {
   "cell_type": "code",
   "execution_count": 63,
   "id": "700fdee8",
   "metadata": {},
   "outputs": [
    {
     "data": {
      "image/png": "[encoded data removed]",
      "text/plain": [
       "<Figure size 1000x800 with 1 Axes>"
      ]
     },
     "metadata": {},
     "output_type": "display_data"
    }
   ],
   "source": [
    "# DataFrame으로 생성\n",
    "importances = pd.DataFrame({\n",
    "    # 'feature': X_train.columns,\n",
    "    'feature': columns_kor,\n",
    "    'importance': best_model.feature_importances_\n",
    "})\n",
    "importances = importances.sort_values('importance', ascending=False, ignore_index=True)\n",
    "\n",
    "\n",
    "# DataFrame 시각화\n",
    "plt.figure(figsize=(10, 8))\n",
    "sns.barplot(data=importances, x='importance', y='feature', hue='feature')\n",
    "plt.title('Feature Importances')\n",
    "plt.show()"
   ]
  }
 ],
 "metadata": {
  "kernelspec": {
   "display_name": "ml_env",
   "language": "python",
   "name": "python3"
  },
  "language_info": {
   "codemirror_mode": {
    "name": "ipython",
    "version": 3
   },
   "file_extension": ".py",
   "mimetype": "text/x-python",
   "name": "python",
   "nbconvert_exporter": "python",
   "pygments_lexer": "ipython3",
   "version": "3.12.11"
  }
 },
 "nbformat": 4,
 "nbformat_minor": 5
}
