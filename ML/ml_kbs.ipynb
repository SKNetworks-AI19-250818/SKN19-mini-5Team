{
 "cells": [
  {
   "cell_type": "markdown",
   "id": "55b40da2",
   "metadata": {},
   "source": [
    "# SKN 19기 mini-project 5팀(팀명: 여권어디있지) M/L"
   ]
  },
  {
   "cell_type": "code",
   "execution_count": 78,
   "id": "57913706",
   "metadata": {},
   "outputs": [],
   "source": [
    "import numpy as np\n",
    "import pandas as pd\n",
    "import matplotlib.pyplot as plt\n",
    "import seaborn as sns\n",
    "import warnings\n",
    "warnings.filterwarnings('ignore')\n",
    "\n",
    "\n",
    "# pandas 출력 옵션\n",
    "pd.set_option('display.float_format', '{:.2f}'.format)\n",
    "\n",
    "\n",
    "# 한글 폰트 사용을 위한 설정\n",
    "import matplotlib.font_manager as fm\n",
    "import matplotlib\n",
    "\n",
    "font_path = 'C:\\\\Windows\\\\Fonts\\\\gulim.ttc'\n",
    "font = fm.FontProperties(fname=font_path).get_name()\n",
    "matplotlib.rc('font', family=font)"
   ]
  },
  {
   "cell_type": "code",
   "execution_count": 79,
   "id": "0c08ad61",
   "metadata": {},
   "outputs": [],
   "source": [
    "# 다른 평가 지표\n",
    "from sklearn.metrics import mean_squared_error, root_mean_squared_error, mean_absolute_error, r2_score\n",
    "\n",
    "# 회귀를 평가하는 함수\n",
    "def evaluate_regression(y_true, y_pred):\n",
    "    mse = mean_squared_error(y_true,y_pred)\n",
    "    rmse = root_mean_squared_error(y_true,y_pred)\n",
    "    mae = mean_absolute_error(y_true,y_pred)\n",
    "    r2 = r2_score(y_true,y_pred)\n",
    "    print(f'MSE: {mse}, RMSE: {rmse}, MAE: {mae}, R2: {r2}')"
   ]
  },
  {
   "cell_type": "code",
   "execution_count": 80,
   "id": "56afc72e",
   "metadata": {},
   "outputs": [
    {
     "name": "stdout",
     "output_type": "stream",
     "text": [
      "<class 'pandas.core.frame.DataFrame'>\n",
      "RangeIndex: 23007 entries, 0 to 23006\n",
      "Data columns (total 38 columns):\n",
      " #   Column                      Non-Null Count  Dtype  \n",
      "---  ------                      --------------  -----  \n",
      " 0   neighbourhood_cleansed      23007 non-null  object \n",
      " 1   property_type               23007 non-null  object \n",
      " 2   room_type                   23007 non-null  object \n",
      " 3   accommodates                23007 non-null  int64  \n",
      " 4   bathrooms                   23007 non-null  float64\n",
      " 5   bedrooms                    23007 non-null  float64\n",
      " 6   beds                        23007 non-null  float64\n",
      " 7   price                       23007 non-null  float64\n",
      " 8   number_of_reviews           23007 non-null  int64  \n",
      " 9   first_review                19875 non-null  object \n",
      " 10  review_scores_rating        19875 non-null  float64\n",
      " 11  amnt_self_checkin           23007 non-null  int64  \n",
      " 12  amnt_instant_book           23007 non-null  int64  \n",
      " 13  amnt_kitchen                23007 non-null  int64  \n",
      " 14  amnt_hair_dryer             23007 non-null  int64  \n",
      " 15  amnt_free_parking           23007 non-null  int64  \n",
      " 16  amnt_wifi                   23007 non-null  int64  \n",
      " 17  amnt_private_bathroom       23007 non-null  int64  \n",
      " 18  amnt_bbq_grill              23007 non-null  int64  \n",
      " 19  amnt_washer                 23007 non-null  int64  \n",
      " 20  amnt_pets_allowed           23007 non-null  int64  \n",
      " 21  amnt_clothes_dryer          23007 non-null  int64  \n",
      " 22  amnt_heating                23007 non-null  int64  \n",
      " 23  amnt_air_conditioning       23007 non-null  int64  \n",
      " 24  amnt_workspace              23007 non-null  int64  \n",
      " 25  amnt_iron                   23007 non-null  int64  \n",
      " 26  amnt_pool                   23007 non-null  int64  \n",
      " 27  amnt_bathtub                23007 non-null  int64  \n",
      " 28  amnt_ev_charger             23007 non-null  int64  \n",
      " 29  amnt_crib                   23007 non-null  int64  \n",
      " 30  amnt_king_bed               23007 non-null  int64  \n",
      " 31  amnt_gym                    23007 non-null  int64  \n",
      " 32  amnt_breakfast              23007 non-null  int64  \n",
      " 33  amnt_fireplace              23007 non-null  int64  \n",
      " 34  amnt_smoking_allowed        23007 non-null  int64  \n",
      " 35  amnt_waterfront             23007 non-null  int64  \n",
      " 36  amnt_smoke_alarm            23007 non-null  int64  \n",
      " 37  amnt_carbon_monoxide_alarm  23007 non-null  int64  \n",
      "dtypes: float64(5), int64(29), object(4)\n",
      "memory usage: 6.7+ MB\n"
     ]
    }
   ],
   "source": [
    "df_listings = pd.read_csv('./data/listings_cleaned_1st.csv')\n",
    "df_listings.info()"
   ]
  },
  {
   "cell_type": "code",
   "execution_count": 81,
   "id": "364945ab",
   "metadata": {},
   "outputs": [
    {
     "data": {
      "text/html": [
       "<div>\n",
       "<style scoped>\n",
       "    .dataframe tbody tr th:only-of-type {\n",
       "        vertical-align: middle;\n",
       "    }\n",
       "\n",
       "    .dataframe tbody tr th {\n",
       "        vertical-align: top;\n",
       "    }\n",
       "\n",
       "    .dataframe thead th {\n",
       "        text-align: right;\n",
       "    }\n",
       "</style>\n",
       "<table border=\"1\" class=\"dataframe\">\n",
       "  <thead>\n",
       "    <tr style=\"text-align: right;\">\n",
       "      <th></th>\n",
       "      <th>neighbourhood_cleansed</th>\n",
       "      <th>property_type</th>\n",
       "      <th>room_type</th>\n",
       "      <th>accommodates</th>\n",
       "      <th>bathrooms</th>\n",
       "      <th>bedrooms</th>\n",
       "      <th>beds</th>\n",
       "      <th>price</th>\n",
       "      <th>number_of_reviews</th>\n",
       "      <th>first_review</th>\n",
       "      <th>...</th>\n",
       "      <th>amnt_ev_charger</th>\n",
       "      <th>amnt_crib</th>\n",
       "      <th>amnt_king_bed</th>\n",
       "      <th>amnt_gym</th>\n",
       "      <th>amnt_breakfast</th>\n",
       "      <th>amnt_fireplace</th>\n",
       "      <th>amnt_smoking_allowed</th>\n",
       "      <th>amnt_waterfront</th>\n",
       "      <th>amnt_smoke_alarm</th>\n",
       "      <th>amnt_carbon_monoxide_alarm</th>\n",
       "    </tr>\n",
       "  </thead>\n",
       "  <tbody>\n",
       "    <tr>\n",
       "      <th>0</th>\n",
       "      <td>Bunkyo Ku</td>\n",
       "      <td>Entire rental unit</td>\n",
       "      <td>Entire home/apt</td>\n",
       "      <td>3</td>\n",
       "      <td>1.00</td>\n",
       "      <td>0.00</td>\n",
       "      <td>2.00</td>\n",
       "      <td>100000.00</td>\n",
       "      <td>0</td>\n",
       "      <td>NaN</td>\n",
       "      <td>...</td>\n",
       "      <td>0</td>\n",
       "      <td>0</td>\n",
       "      <td>0</td>\n",
       "      <td>0</td>\n",
       "      <td>0</td>\n",
       "      <td>1</td>\n",
       "      <td>0</td>\n",
       "      <td>0</td>\n",
       "      <td>1</td>\n",
       "      <td>0</td>\n",
       "    </tr>\n",
       "    <tr>\n",
       "      <th>1</th>\n",
       "      <td>Bunkyo Ku</td>\n",
       "      <td>Entire rental unit</td>\n",
       "      <td>Entire home/apt</td>\n",
       "      <td>8</td>\n",
       "      <td>1.00</td>\n",
       "      <td>2.00</td>\n",
       "      <td>5.00</td>\n",
       "      <td>100000.00</td>\n",
       "      <td>0</td>\n",
       "      <td>NaN</td>\n",
       "      <td>...</td>\n",
       "      <td>0</td>\n",
       "      <td>0</td>\n",
       "      <td>0</td>\n",
       "      <td>0</td>\n",
       "      <td>0</td>\n",
       "      <td>1</td>\n",
       "      <td>0</td>\n",
       "      <td>0</td>\n",
       "      <td>1</td>\n",
       "      <td>0</td>\n",
       "    </tr>\n",
       "    <tr>\n",
       "      <th>2</th>\n",
       "      <td>Taito Ku</td>\n",
       "      <td>Entire serviced apartment</td>\n",
       "      <td>Entire home/apt</td>\n",
       "      <td>4</td>\n",
       "      <td>2.00</td>\n",
       "      <td>2.00</td>\n",
       "      <td>2.00</td>\n",
       "      <td>14550.00</td>\n",
       "      <td>24</td>\n",
       "      <td>2023-12-04</td>\n",
       "      <td>...</td>\n",
       "      <td>0</td>\n",
       "      <td>0</td>\n",
       "      <td>0</td>\n",
       "      <td>0</td>\n",
       "      <td>0</td>\n",
       "      <td>0</td>\n",
       "      <td>0</td>\n",
       "      <td>0</td>\n",
       "      <td>1</td>\n",
       "      <td>1</td>\n",
       "    </tr>\n",
       "    <tr>\n",
       "      <th>3</th>\n",
       "      <td>Kita Ku</td>\n",
       "      <td>Entire home</td>\n",
       "      <td>Entire home/apt</td>\n",
       "      <td>8</td>\n",
       "      <td>1.00</td>\n",
       "      <td>3.00</td>\n",
       "      <td>6.00</td>\n",
       "      <td>22012.00</td>\n",
       "      <td>15</td>\n",
       "      <td>2024-01-10</td>\n",
       "      <td>...</td>\n",
       "      <td>0</td>\n",
       "      <td>0</td>\n",
       "      <td>0</td>\n",
       "      <td>0</td>\n",
       "      <td>0</td>\n",
       "      <td>0</td>\n",
       "      <td>0</td>\n",
       "      <td>0</td>\n",
       "      <td>1</td>\n",
       "      <td>1</td>\n",
       "    </tr>\n",
       "    <tr>\n",
       "      <th>4</th>\n",
       "      <td>Sumida Ku</td>\n",
       "      <td>Entire rental unit</td>\n",
       "      <td>Entire home/apt</td>\n",
       "      <td>3</td>\n",
       "      <td>1.00</td>\n",
       "      <td>1.00</td>\n",
       "      <td>1.00</td>\n",
       "      <td>15429.00</td>\n",
       "      <td>17</td>\n",
       "      <td>2023-12-26</td>\n",
       "      <td>...</td>\n",
       "      <td>0</td>\n",
       "      <td>1</td>\n",
       "      <td>0</td>\n",
       "      <td>0</td>\n",
       "      <td>0</td>\n",
       "      <td>1</td>\n",
       "      <td>0</td>\n",
       "      <td>0</td>\n",
       "      <td>1</td>\n",
       "      <td>1</td>\n",
       "    </tr>\n",
       "  </tbody>\n",
       "</table>\n",
       "<p>5 rows × 38 columns</p>\n",
       "</div>"
      ],
      "text/plain": [
       "  neighbourhood_cleansed              property_type        room_type  \\\n",
       "0              Bunkyo Ku         Entire rental unit  Entire home/apt   \n",
       "1              Bunkyo Ku         Entire rental unit  Entire home/apt   \n",
       "2               Taito Ku  Entire serviced apartment  Entire home/apt   \n",
       "3                Kita Ku                Entire home  Entire home/apt   \n",
       "4              Sumida Ku         Entire rental unit  Entire home/apt   \n",
       "\n",
       "   accommodates  bathrooms  bedrooms  beds     price  number_of_reviews  \\\n",
       "0             3       1.00      0.00  2.00 100000.00                  0   \n",
       "1             8       1.00      2.00  5.00 100000.00                  0   \n",
       "2             4       2.00      2.00  2.00  14550.00                 24   \n",
       "3             8       1.00      3.00  6.00  22012.00                 15   \n",
       "4             3       1.00      1.00  1.00  15429.00                 17   \n",
       "\n",
       "  first_review  ...  amnt_ev_charger  amnt_crib  amnt_king_bed  amnt_gym  \\\n",
       "0          NaN  ...                0          0              0         0   \n",
       "1          NaN  ...                0          0              0         0   \n",
       "2   2023-12-04  ...                0          0              0         0   \n",
       "3   2024-01-10  ...                0          0              0         0   \n",
       "4   2023-12-26  ...                0          1              0         0   \n",
       "\n",
       "   amnt_breakfast  amnt_fireplace  amnt_smoking_allowed  amnt_waterfront  \\\n",
       "0               0               1                     0                0   \n",
       "1               0               1                     0                0   \n",
       "2               0               0                     0                0   \n",
       "3               0               0                     0                0   \n",
       "4               0               1                     0                0   \n",
       "\n",
       "   amnt_smoke_alarm  amnt_carbon_monoxide_alarm  \n",
       "0                 1                           0  \n",
       "1                 1                           0  \n",
       "2                 1                           1  \n",
       "3                 1                           1  \n",
       "4                 1                           1  \n",
       "\n",
       "[5 rows x 38 columns]"
      ]
     },
     "execution_count": 81,
     "metadata": {},
     "output_type": "execute_result"
    }
   ],
   "source": [
    "df_listings.head(5)"
   ]
  },
  {
   "cell_type": "code",
   "execution_count": 82,
   "id": "170220fb",
   "metadata": {},
   "outputs": [],
   "source": [
    "# 6. 데이터 변환 및 피처 엔지니어링"
   ]
  },
  {
   "cell_type": "code",
   "execution_count": null,
   "id": "3d6bbc3b",
   "metadata": {},
   "outputs": [],
   "source": [
    "le_neighbourhood_cleansed = LabelEncoder()\n",
    "le_property_type = LabelEncoder()\n",
    "le_room_type = LabelEncoder()\n",
    "\n",
    "df_listings[\"neighbourhood_cleansed\"] = le_neighbourhood_cleansed.fit_transform(df_listings[\"neighbourhood_cleansed\"])\n",
    "df_listings[\"property_type\"] = le_property_type.fit_transform(df_listings[\"property_type\"])\n",
    "df_listings[\"room_type\"] = le_room_type.fit_transform(df_listings[\"room_type\"])"
   ]
  },
  {
   "cell_type": "code",
   "execution_count": null,
   "id": "75335d19",
   "metadata": {},
   "outputs": [
    {
     "data": {
      "text/plain": [
       "numpy.ndarray"
      ]
     },
     "execution_count": 100,
     "metadata": {},
     "output_type": "execute_result"
    }
   ],
   "source": [
    "le_neighbourhood_cleansed.classes_"
   ]
  },
  {
   "cell_type": "code",
   "execution_count": null,
   "id": "8ee5a1d7",
   "metadata": {},
   "outputs": [],
   "source": [
    "from sklearn.preprocessing import LabelEncoder\n",
    "import json\n",
    "\n",
    "le_neighbourhood_cleansed = LabelEncoder()\n",
    "le_property_type = LabelEncoder()\n",
    "le_room_type = LabelEncoder()\n",
    "\n",
    "df_listings[\"neighbourhood_cleansed\"] = le_neighbourhood_cleansed.fit_transform(df_listings[\"neighbourhood_cleansed\"])\n",
    "df_listings[\"property_type\"] = le_property_type.fit_transform(df_listings[\"property_type\"])\n",
    "df_listings[\"room_type\"] = le_room_type.fit_transform(df_listings[\"room_type\"])\n",
    "\n",
    "\n",
    "# 인코딩 저장\n",
    "def save_encoding(encoder_nm, encoder_obj):\n",
    "    file_path = \"./data/\" + encoder_nm + \".json\"\n",
    "    with open(file_path, 'w', encoding='utf-8') as f:\n",
    "        json.dump(encoder_obj.classes_.tolist(), f, ensure_ascii=False, indent=4)\n",
    "\n",
    "save_encoding('neighbourhood_cleansed', le_neighbourhood_cleansed)\n",
    "save_encoding('property_type', le_property_type)\n",
    "save_encoding('room_type', le_room_type)\n",
    "\n",
    "# days_since_first_review 추가\n",
    "if False:\n",
    "    df_listings['first_review'] = pd.to_datetime(df_listings['first_review'], errors='coerce')\n",
    "    reference_date = pd.to_datetime('2025-06-27')\n",
    "    df_listings['days_since_first_review'] = (reference_date - df_listings['first_review']).dt.days\n",
    "\n",
    "\n",
    "# 드롭 목록\n",
    "drop_list = [\n",
    "    'number_of_reviews',    # 리뷰 갯수\n",
    "    'first_review'          # 첫 리뷰 일자\n",
    "    # 'review_scores_rating'\n",
    "]\n",
    "\n",
    "df_listings = df_listings.drop(drop_list, axis=1)\n",
    "\n",
    "\n",
    "# df_listings.head(5)\n"
   ]
  },
  {
   "cell_type": "code",
   "execution_count": 84,
   "id": "1253ae11",
   "metadata": {},
   "outputs": [
    {
     "data": {
      "text/plain": [
       "array(['Earthen home', 'Entire bungalow', 'Entire cabin', 'Entire chalet',\n",
       "       'Entire condo', 'Entire cottage', 'Entire guest suite',\n",
       "       'Entire guesthouse', 'Entire home', 'Entire loft', 'Entire place',\n",
       "       'Entire rental unit', 'Entire serviced apartment',\n",
       "       'Entire townhouse', 'Entire vacation home', 'Entire villa', 'Hut',\n",
       "       'Private room', 'Private room in bed and breakfast',\n",
       "       'Private room in bungalow', 'Private room in cabin',\n",
       "       'Private room in condo', 'Private room in guest suite',\n",
       "       'Private room in guesthouse', 'Private room in home',\n",
       "       'Private room in hostel', 'Private room in hut',\n",
       "       'Private room in kezhan', 'Private room in minsu',\n",
       "       'Private room in nature lodge', 'Private room in rental unit',\n",
       "       'Private room in resort', 'Private room in ryokan',\n",
       "       'Private room in serviced apartment', 'Private room in tent',\n",
       "       'Private room in tiny home', 'Private room in tower',\n",
       "       'Private room in townhouse', 'Private room in vacation home',\n",
       "       'Private room in villa', 'Room in aparthotel',\n",
       "       'Room in boutique hotel', 'Room in hostel', 'Room in hotel',\n",
       "       'Room in rental unit', 'Room in serviced apartment',\n",
       "       'Shared room in aparthotel', 'Shared room in bed and breakfast',\n",
       "       'Shared room in boutique hotel', 'Shared room in guesthouse',\n",
       "       'Shared room in home', 'Shared room in hostel',\n",
       "       'Shared room in hotel', 'Shared room in hut',\n",
       "       'Shared room in kezhan', 'Shared room in rental unit',\n",
       "       'Shared room in ryokan', 'Shipping container', 'Tent', 'Tiny home',\n",
       "       'Treehouse'], dtype=object)"
      ]
     },
     "execution_count": 84,
     "metadata": {},
     "output_type": "execute_result"
    }
   ],
   "source": [
    "le_property_type.classes_\n",
    "\n"
   ]
  },
  {
   "cell_type": "code",
   "execution_count": 85,
   "id": "a417c8f6",
   "metadata": {},
   "outputs": [],
   "source": [
    "from sklearn.model_selection import cross_val_score\n",
    "from lightgbm import LGBMRegressor\n",
    "import optuna\n",
    "\n",
    "def print_optimized_hyper_params(X, y):\n",
    "\n",
    "    def lgbm_optuna_objective(trial):\n",
    "        params = {\n",
    "            'n_estimators': trial.suggest_int('n_estimators', 100, 500, 100),\n",
    "            'max_depth': trial.suggest_int('max_depth', 3, 10),\n",
    "            'learning_rate': trial.suggest_float('learning_rate', 0.01, 0.2),\n",
    "            'colsample_bytree': trial.suggest_float('colsample_bytree', 0.5, 1.0),\n",
    "        }\n",
    "\n",
    "        lgbm_reg = LGBMRegressor(**params, n_jobs=-1)\n",
    "        mean_r2 = cross_val_score(lgbm_reg, X, y, scoring='r2', cv=3).mean()\n",
    "        return mean_r2\n",
    "    # 2. study 객체 -> 최적화\n",
    "    study = optuna.create_study(direction=\"maximize\")\n",
    "    study.optimize(lgbm_optuna_objective, n_trials=100)\n",
    "    # 3. 결과 출력\n",
    "    print(study.best_value)\n",
    "    print(study.best_params)"
   ]
  },
  {
   "cell_type": "code",
   "execution_count": 86,
   "id": "0218c2bd",
   "metadata": {},
   "outputs": [],
   "source": [
    "from sklearn.model_selection import train_test_split\n",
    "from sklearn.model_selection import cross_val_score, cross_validate\n",
    "from sklearn.preprocessing import StandardScaler\n",
    "\n",
    "\n",
    "x = df_listings.drop('price', axis=1)\n",
    "y = df_listings['price']\n",
    "\n",
    "X_train, X_test, y_train, y_test = train_test_split(x, y, train_size=0.8)\n",
    "\n",
    "\n"
   ]
  },
  {
   "cell_type": "code",
   "execution_count": 87,
   "id": "41487abb",
   "metadata": {},
   "outputs": [],
   "source": [
    "# 스케일링\n",
    "scaler = StandardScaler()\n",
    "\n",
    "scaler.fit(X_train)\n",
    "X_train_scaled = scaler.transform(X_train)\n",
    "X_test_scaled = scaler.transform(X_test)\n",
    "\n",
    "\n",
    "y_train = np.log(y_train)\n",
    "y_test = np.log(y_test)"
   ]
  },
  {
   "cell_type": "code",
   "execution_count": 88,
   "id": "c27ee9e6",
   "metadata": {},
   "outputs": [
    {
     "name": "stdout",
     "output_type": "stream",
     "text": [
      "[LightGBM] [Info] Total Bins 586\n",
      "[LightGBM] [Info] Number of data points in the train set: 14724, number of used features: 33\n",
      "[LightGBM] [Info] Start training from score 9.590348\n",
      "[LightGBM] [Warning] No further splits with positive gain, best gain: -inf\n",
      "[LightGBM] [Warning] No further splits with positive gain, best gain: -inf\n",
      "[LightGBM] [Warning] No further splits with positive gain, best gain: -inf\n",
      "[LightGBM] [Warning] No further splits with positive gain, best gain: -inf\n",
      "[LightGBM] [Warning] No further splits with positive gain, best gain: -inf\n",
      "[LightGBM] [Warning] No further splits with positive gain, best gain: -inf\n",
      "[LightGBM] [Warning] No further splits with positive gain, best gain: -inf\n",
      "[LightGBM] [Warning] No further splits with positive gain, best gain: -inf\n",
      "[LightGBM] [Warning] No further splits with positive gain, best gain: -inf\n",
      "[LightGBM] [Warning] No further splits with positive gain, best gain: -inf\n",
      "[LightGBM] [Warning] No further splits with positive gain, best gain: -inf\n",
      "[LightGBM] [Info] Total Bins 585\n",
      "[LightGBM] [Info] Number of data points in the train set: 14724, number of used features: 33\n",
      "[LightGBM] [Info] Start training from score 9.585547\n",
      "[LightGBM] [Warning] No further splits with positive gain, best gain: -inf\n",
      "[LightGBM] [Warning] No further splits with positive gain, best gain: -inf\n",
      "[LightGBM] [Warning] No further splits with positive gain, best gain: -inf\n",
      "[LightGBM] [Warning] No further splits with positive gain, best gain: -inf\n",
      "[LightGBM] [Warning] No further splits with positive gain, best gain: -inf\n",
      "[LightGBM] [Warning] No further splits with positive gain, best gain: -inf\n",
      "[LightGBM] [Warning] No further splits with positive gain, best gain: -inf\n",
      "[LightGBM] [Info] Total Bins 589\n",
      "[LightGBM] [Info] Number of data points in the train set: 14724, number of used features: 33\n",
      "[LightGBM] [Info] Start training from score 9.587360\n",
      "[LightGBM] [Warning] No further splits with positive gain, best gain: -inf\n",
      "[LightGBM] [Warning] No further splits with positive gain, best gain: -inf\n",
      "[LightGBM] [Warning] No further splits with positive gain, best gain: -inf\n",
      "[LightGBM] [Warning] No further splits with positive gain, best gain: -inf\n",
      "[LightGBM] [Warning] No further splits with positive gain, best gain: -inf\n",
      "[LightGBM] [Warning] No further splits with positive gain, best gain: -inf\n",
      "[LightGBM] [Warning] No further splits with positive gain, best gain: -inf\n",
      "[LightGBM] [Warning] No further splits with positive gain, best gain: -inf\n",
      "[LightGBM] [Warning] No further splits with positive gain, best gain: -inf\n",
      "[LightGBM] [Warning] No further splits with positive gain, best gain: -inf\n",
      "[LightGBM] [Info] Total Bins 585\n",
      "[LightGBM] [Info] Number of data points in the train set: 14724, number of used features: 33\n",
      "[LightGBM] [Info] Start training from score 9.589249\n",
      "[LightGBM] [Warning] No further splits with positive gain, best gain: -inf\n",
      "[LightGBM] [Warning] No further splits with positive gain, best gain: -inf\n",
      "[LightGBM] [Warning] No further splits with positive gain, best gain: -inf\n",
      "[LightGBM] [Warning] No further splits with positive gain, best gain: -inf\n",
      "[LightGBM] [Warning] No further splits with positive gain, best gain: -inf\n",
      "[LightGBM] [Warning] No further splits with positive gain, best gain: -inf\n",
      "[LightGBM] [Warning] No further splits with positive gain, best gain: -inf\n",
      "[LightGBM] [Warning] No further splits with positive gain, best gain: -inf\n",
      "[LightGBM] [Warning] No further splits with positive gain, best gain: -inf\n",
      "[LightGBM] [Warning] No further splits with positive gain, best gain: -inf\n",
      "[LightGBM] [Info] Total Bins 586\n",
      "[LightGBM] [Info] Number of data points in the train set: 14724, number of used features: 33\n",
      "[LightGBM] [Info] Start training from score 9.586707\n",
      "[LightGBM] [Warning] No further splits with positive gain, best gain: -inf\n",
      "[LightGBM] [Warning] No further splits with positive gain, best gain: -inf\n",
      "[LightGBM] [Warning] No further splits with positive gain, best gain: -inf\n",
      "[LightGBM] [Warning] No further splits with positive gain, best gain: -inf\n",
      "[LightGBM] [Warning] No further splits with positive gain, best gain: -inf\n",
      "[LightGBM] [Warning] No further splits with positive gain, best gain: -inf\n",
      "[LightGBM] [Warning] No further splits with positive gain, best gain: -inf\n",
      "[LightGBM] [Warning] No further splits with positive gain, best gain: -inf\n",
      "[LightGBM] [Warning] No further splits with positive gain, best gain: -inf\n",
      "훈련별 정확도: [0.71506628 0.68177944 0.69645279 0.71259455 0.69647881]\n",
      "모델 정확도: 0.7004743727116352\n"
     ]
    }
   ],
   "source": [
    "\n",
    "\n",
    "\n",
    "lgbm_reg = LGBMRegressor(n_estimators=500,  # 트리의 개수\n",
    "                         max_depth=9,\n",
    "                         learning_rate=0.11, # 학습률\n",
    "                        #  random_state=42,\n",
    "                         colsample_bytree=0.68,\n",
    "                         force_row_wise=True, \n",
    "                         n_jobs=-1) # 모든 코어 사용\n",
    "\n",
    "scores = cross_val_score(lgbm_reg, X_train_scaled, y_train, cv=5, scoring='r2')\n",
    "\n",
    "print(\"훈련별 정확도:\", scores)\n",
    "print(\"모델 정확도:\", np.mean(scores))\n",
    "\n",
    "\n"
   ]
  },
  {
   "cell_type": "code",
   "execution_count": 89,
   "id": "7de07932",
   "metadata": {},
   "outputs": [
    {
     "name": "stdout",
     "output_type": "stream",
     "text": [
      "[LightGBM] [Info] Total Bins 592\n",
      "[LightGBM] [Info] Number of data points in the train set: 18405, number of used features: 33\n",
      "[LightGBM] [Info] Start training from score 9.587842\n",
      "[LightGBM] [Warning] No further splits with positive gain, best gain: -inf\n",
      "[LightGBM] [Warning] No further splits with positive gain, best gain: -inf\n",
      "[LightGBM] [Warning] No further splits with positive gain, best gain: -inf\n"
     ]
    }
   ],
   "source": [
    "lgbm_reg.fit(X_train_scaled, y_train)\n",
    "y_pred_test = lgbm_reg.predict(X_test_scaled)\n",
    "y_pred_train = lgbm_reg.predict(X_train_scaled)"
   ]
  },
  {
   "cell_type": "code",
   "execution_count": 90,
   "id": "60ef4703",
   "metadata": {},
   "outputs": [
    {
     "name": "stdout",
     "output_type": "stream",
     "text": [
      "MSE: 0.06266709911729926, RMSE: 0.25033397515578915, MAE: 0.18604746723337975, R2: 0.8307257189234137\n",
      "MSE: 0.10769850684128053, RMSE: 0.3281745066900848, MAE: 0.24109121621289087, R2: 0.7137196295327228\n"
     ]
    }
   ],
   "source": [
    "evaluate_regression(y_train,y_pred_train)\n",
    "evaluate_regression(y_test,y_pred_test)"
   ]
  },
  {
   "cell_type": "code",
   "execution_count": 91,
   "id": "b2a0b193",
   "metadata": {},
   "outputs": [],
   "source": [
    "import json\n",
    "amenities = './data/amenities.json'\n",
    "columns = './data/columns.json'\n",
    "\n",
    "\n",
    "# 📂 불러오기 (Reading)\n",
    "with open(amenities, 'r', encoding='utf-8') as f:\n",
    "    amenity_eng_to_kor = json.load(f)\n",
    "\n",
    "with open(columns, 'r', encoding='utf-8') as f:\n",
    "    columns_ori = json.load(f)\n",
    "\n",
    "# 한글-영어 매핑 딕셔너리 (반대 변환용)\n",
    "# amenity_kor_to_eng = {v: k for k, v in amenity_eng_to_kor.items()}\n",
    "\n"
   ]
  },
  {
   "cell_type": "code",
   "execution_count": 92,
   "id": "283e45d0",
   "metadata": {},
   "outputs": [
    {
     "data": {
      "text/plain": [
       "['정제된 숙소 지역 이름',\n",
       " '숙소의 종류',\n",
       " '숙소의 방 유형',\n",
       " '숙소가 수용 가능한 최대 인원 수',\n",
       " '숙소의 욕실 개수',\n",
       " '숙소의 침실 개수',\n",
       " '숙소의 침대 개수',\n",
       " '총 리뷰 점수(별점)의 평균값',\n",
       " '셀프 체크인',\n",
       " '즉시예약',\n",
       " '주방',\n",
       " '헤어드라이어',\n",
       " '무료 주차 공간',\n",
       " '와이파이',\n",
       " '침실에 딸린 개인 욕실',\n",
       " '바베큐 그릴',\n",
       " '세탁기',\n",
       " '반려동물 동반 가능',\n",
       " '건조기',\n",
       " '난방',\n",
       " '냉방',\n",
       " '업무 전용 공간',\n",
       " '다리미',\n",
       " '수영장',\n",
       " '대형 욕조',\n",
       " '전기차 충전시설',\n",
       " '아기 침대',\n",
       " '킹사이즈 침대',\n",
       " '헬스장',\n",
       " '조식',\n",
       " '실내 벽난로',\n",
       " '흡연 가능',\n",
       " '수변',\n",
       " '화재경보기',\n",
       " '일산화탄소 경보기',\n",
       " 'days_since_first_review']"
      ]
     },
     "execution_count": 92,
     "metadata": {},
     "output_type": "execute_result"
    }
   ],
   "source": [
    "\n",
    "columns_kor = [amenity_eng_to_kor.get(col.replace('amnt_',''), col) for col in X_train.columns]\n",
    "columns_kor = [columns_ori.get(col.replace('amnt_',''), col) for col in columns_kor]\n",
    "\n",
    "\n",
    "columns_kor\n",
    "# columns_kor = "
   ]
  },
  {
   "cell_type": "code",
   "execution_count": 93,
   "id": "81f0c972",
   "metadata": {},
   "outputs": [
    {
     "data": {
      "text/plain": [
       "dict_keys(['self_checkin', 'instant_book', 'kitchen', 'hair_dryer', 'free_parking', 'wifi', 'private_bathroom', 'bbq_grill', 'washer', 'pets_allowed', 'clothes_dryer', 'heating', 'air_conditioning', 'workspace', 'iron', 'pool', 'bathtub', 'ev_charger', 'crib', 'king_bed', 'gym', 'breakfast', 'fireplace', 'smoking_allowed', 'waterfront', 'smoke_alarm', 'carbon_monoxide_alarm', 'other'])"
      ]
     },
     "execution_count": 93,
     "metadata": {},
     "output_type": "execute_result"
    }
   ],
   "source": [
    "amenity_eng_to_kor.keys()"
   ]
  },
  {
   "cell_type": "code",
   "execution_count": 94,
   "id": "174dc524",
   "metadata": {},
   "outputs": [
    {
     "data": {
      "text/plain": [
       "Index(['neighbourhood_cleansed', 'property_type', 'room_type', 'accommodates',\n",
       "       'bathrooms', 'bedrooms', 'beds', 'review_scores_rating',\n",
       "       'amnt_self_checkin', 'amnt_instant_book', 'amnt_kitchen',\n",
       "       'amnt_hair_dryer', 'amnt_free_parking', 'amnt_wifi',\n",
       "       'amnt_private_bathroom', 'amnt_bbq_grill', 'amnt_washer',\n",
       "       'amnt_pets_allowed', 'amnt_clothes_dryer', 'amnt_heating',\n",
       "       'amnt_air_conditioning', 'amnt_workspace', 'amnt_iron', 'amnt_pool',\n",
       "       'amnt_bathtub', 'amnt_ev_charger', 'amnt_crib', 'amnt_king_bed',\n",
       "       'amnt_gym', 'amnt_breakfast', 'amnt_fireplace', 'amnt_smoking_allowed',\n",
       "       'amnt_waterfront', 'amnt_smoke_alarm', 'amnt_carbon_monoxide_alarm',\n",
       "       'days_since_first_review'],\n",
       "      dtype='object')"
      ]
     },
     "execution_count": 94,
     "metadata": {},
     "output_type": "execute_result"
    }
   ],
   "source": [
    "X_train.columns"
   ]
  },
  {
   "cell_type": "code",
   "execution_count": 95,
   "id": "700fdee8",
   "metadata": {},
   "outputs": [
    {
     "data": {
      "image/png": "[encoded data removed]",
      "text/plain": [
       "<Figure size 1000x800 with 1 Axes>"
      ]
     },
     "metadata": {},
     "output_type": "display_data"
    }
   ],
   "source": [
    "# DataFrame으로 생성\n",
    "importances = pd.DataFrame({\n",
    "    # 'feature': X_train.columns,\n",
    "    'feature': columns_kor,\n",
    "    'importance': lgbm_reg.feature_importances_\n",
    "})\n",
    "importances = importances.sort_values('importance', ascending=False)\n",
    "\n",
    "# DataFrame 시각화\n",
    "plt.figure(figsize=(10, 8))\n",
    "sns.barplot(data=importances, x='importance', y='feature', hue='feature')\n",
    "plt.title('Feature Importances')\n",
    "plt.show()"
   ]
  }
 ],
 "metadata": {
  "kernelspec": {
   "display_name": "ml_env",
   "language": "python",
   "name": "python3"
  },
  "language_info": {
   "codemirror_mode": {
    "name": "ipython",
    "version": 3
   },
   "file_extension": ".py",
   "mimetype": "text/x-python",
   "name": "python",
   "nbconvert_exporter": "python",
   "pygments_lexer": "ipython3",
   "version": "3.12.11"
  }
 },
 "nbformat": 4,
 "nbformat_minor": 5
}
