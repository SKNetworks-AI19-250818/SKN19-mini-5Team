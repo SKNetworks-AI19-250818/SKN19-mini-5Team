{
 "cells": [
  {
   "cell_type": "code",
   "execution_count": 5,
   "id": "f1c7b562",
   "metadata": {},
   "outputs": [],
   "source": [
    "import numpy as np\n",
    "import pandas as pd\n",
    "import warnings\n",
    "warnings.filterwarnings('ignore')"
   ]
  },
  {
   "cell_type": "code",
   "execution_count": 6,
   "id": "a0659cf3",
   "metadata": {},
   "outputs": [],
   "source": [
    "df_listings = pd.read_csv('./data/listings_cleaned_1st.csv')"
   ]
  },
  {
   "cell_type": "code",
   "execution_count": 7,
   "id": "180e2485",
   "metadata": {},
   "outputs": [],
   "source": [
    "#------------------------------------------------------------\n",
    "# 인코딩 저장, 불러오기\n",
    "#------------------------------------------------------------\n",
    "\n",
    "import json\n",
    "from sklearn.preprocessing import LabelEncoder\n",
    "import pathlib\n",
    "import numpy as np\n",
    "\n",
    "def save_encoding(encoder_name: str, encoder_obj: LabelEncoder):\n",
    "    file_path = \"./assets/\" + encoder_name + \".json\"\n",
    "    p = pathlib.Path(file_path)\n",
    "    directory_path = p.parent\n",
    "    directory_path.mkdir(parents=True, exist_ok=True)\n",
    "\n",
    "    with open(file_path, 'w', encoding='utf-8') as f:\n",
    "        json.dump(encoder_obj.classes_.tolist(), f, ensure_ascii=False, indent=4)\n",
    "    print(f'파일: {file_path} 저장완료')\n",
    "\n",
    "\n",
    "def load_encoding(file_path: str):\n",
    "    # file_path = \"./assets/\" + encoder_name + \".json\"\n",
    "    p = pathlib.Path(file_path)\n",
    "\n",
    "    if not p.exists():\n",
    "        print(f\"오류: 파일 {file_path} 를 찾을 수 없습니다.\")\n",
    "        return None\n",
    "\n",
    "    try:\n",
    "        with open(file_path, 'r', encoding='utf-8') as f:\n",
    "            classes_list = json.load(f)        \n",
    "        encoder_obj = LabelEncoder()\n",
    "        encoder_obj.classes_ = np.array(classes_list)  # numpy 배열로 변환\n",
    "        \n",
    "        print(f'파일: {file_path} 로부터 인코더 로드 완료')\n",
    "        return encoder_obj\n",
    "        \n",
    "    except json.JSONDecodeError:\n",
    "        print(f\"오류: 파일 {file_path} 의 JSON 형식이 올바르지 않습니다.\")\n",
    "        return None\n",
    "    except Exception as e:\n",
    "        print(f\"인코더 로드 중 알 수 없는 오류 발생: {e}\")\n",
    "        return None"
   ]
  },
  {
   "cell_type": "code",
   "execution_count": 8,
   "id": "f659b434",
   "metadata": {},
   "outputs": [
    {
     "name": "stdout",
     "output_type": "stream",
     "text": [
      "파일: ./assets/le_room_type.json 로부터 인코더 로드 완료\n"
     ]
    },
    {
     "data": {
      "text/plain": [
       "array([0, 0, 0, ..., 0, 0, 0], shape=(22983,))"
      ]
     },
     "execution_count": 8,
     "metadata": {},
     "output_type": "execute_result"
    }
   ],
   "source": [
    "le = load_encoding('./assets/le_room_type.json')\n",
    "\n",
    "le.transform(df_listings[\"room_type\"])"
   ]
  },
  {
   "cell_type": "code",
   "execution_count": 12,
   "id": "edc6f142",
   "metadata": {},
   "outputs": [
    {
     "data": {
      "text/plain": [
       "0        0\n",
       "1        0\n",
       "2        0\n",
       "3        0\n",
       "4        0\n",
       "        ..\n",
       "22978    0\n",
       "22979    0\n",
       "22980    0\n",
       "22981    0\n",
       "22982    0\n",
       "Name: room_type_encode, Length: 22983, dtype: int64"
      ]
     },
     "execution_count": 12,
     "metadata": {},
     "output_type": "execute_result"
    }
   ],
   "source": [
    "df_listings[\"room_type_encode\"] = le.transform(df_listings[\"room_type\"])\n",
    "\n",
    "df_listings[\"room_type_encode\"]"
   ]
  }
 ],
 "metadata": {
  "kernelspec": {
   "display_name": "ml_env",
   "language": "python",
   "name": "python3"
  },
  "language_info": {
   "codemirror_mode": {
    "name": "ipython",
    "version": 3
   },
   "file_extension": ".py",
   "mimetype": "text/x-python",
   "name": "python",
   "nbconvert_exporter": "python",
   "pygments_lexer": "ipython3",
   "version": "3.12.11"
  }
 },
 "nbformat": 4,
 "nbformat_minor": 5
}
