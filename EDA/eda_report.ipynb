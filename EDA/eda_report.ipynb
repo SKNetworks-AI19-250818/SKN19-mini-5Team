{
 "cells": [
  {
   "cell_type": "code",
   "execution_count": null,
   "id": "52a2fbea",
   "metadata": {},
   "outputs": [],
   "source": [
    "import numpy as np\n",
    "import pandas as pd\n",
    "import matplotlib.pyplot as plt\n",
    "import seaborn as sns\n",
    "import warnings\n",
    "warnings.filterwarnings('ignore')\n",
    "\n",
    "\n",
    "# pandas 출력 옵션\n",
    "pd.set_option('display.float_format', '{:.2f}'.format)"
   ]
  },
  {
   "cell_type": "code",
   "execution_count": null,
   "id": "692d26ce",
   "metadata": {},
   "outputs": [],
   "source": [
    "# 한글 폰트 사용을 위한 설정\n",
    "import matplotlib.font_manager as fm\n",
    "import matplotlib\n",
    "\n",
    "font_path = 'C:\\\\Windows\\\\Fonts\\\\gulim.ttc'\n",
    "font = fm.FontProperties(fname=font_path).get_name()\n",
    "matplotlib.rc('font', family=font)"
   ]
  },
  {
   "cell_type": "markdown",
   "id": "065c1385",
   "metadata": {},
   "source": [
    "### # 특이사항 메모\n",
    "\n"
   ]
  },
  {
   "cell_type": "markdown",
   "id": "af896bc0",
   "metadata": {},
   "source": [
    "---"
   ]
  },
  {
   "cell_type": "markdown",
   "id": "43edb390",
   "metadata": {},
   "source": [
    "### 주제탐색1 - 날짜별 가격변화를 예측?"
   ]
  },
  {
   "cell_type": "markdown",
   "id": "b1245047",
   "metadata": {},
   "source": [
    "##### 데이터 구조 탐색\n",
    "\n",
    "- 날짜별 가격변화를 예측하면 성수기 여부에 따른 가격을 예측 가능"
   ]
  },
  {
   "cell_type": "code",
   "execution_count": null,
   "id": "55589068",
   "metadata": {},
   "outputs": [],
   "source": [
    "# 날짜별 정보\n",
    "\n",
    "df_calendar = pd.read_csv('./data/calendar.csv.gz', compression='gzip')"
   ]
  },
  {
   "cell_type": "code",
   "execution_count": null,
   "id": "0b3024aa",
   "metadata": {},
   "outputs": [],
   "source": [
    "# .info()를 통해 '숙소 고유 식별번호', '날짜', '가격', '가격 변동'등이 존재 함을 확인\n",
    "\n",
    "df_calendar.info()\n",
    "\n",
    "_=\"\"\"\n",
    "<class 'pandas.core.frame.DataFrame'>\n",
    "RangeIndex: 8306219 entries, 0 to 8306218\n",
    "Data columns (total 7 columns):\n",
    " #   Column          Dtype  \n",
    "---  ------          -----  \n",
    " 0   listing_id      int64      # 👈 숙소 고유 식별번호\n",
    " 1   date            object     # 👈 날짜\n",
    " 2   available       object     # 예약 가능 여부\n",
    " 3   price           object     # 👈 가격\n",
    " 4   adjusted_price  float64    # 👈 할인이나 프로모션 등이적용된 가격\n",
    " 5   minimum_nights  float64    # 해당 날짜에 숙소를 예약하기 위해 필요한 최소 숙박 일수\n",
    " 6   maximum_nights  float64    # 해당 날짜에 숙소를 예약할 수 있는 최대 숙박 일수\n",
    "dtypes: float64(3), int64(1), object(3)\n",
    "memory usage: 443.6+ MB\n",
    "\"\"\""
   ]
  },
  {
   "cell_type": "code",
   "execution_count": null,
   "id": "2f71f415",
   "metadata": {},
   "outputs": [],
   "source": [
    "# 컬럼 'df_calendar['price']'가 object 타입이고 실제 데이터가 '$4,725.00' 와 같이 들어 있음을 발견하려 float형 컬럼 추가\n",
    "price_float = 'price_float'\n",
    "# 'price_float' 컬럼에서 '$'와 ',' 제거\n",
    "df_calendar[price_float] = df_calendar['price'].str.replace('$', '', regex=False).str.replace(',', '', regex=False)\n",
    "\n",
    "# 컬럼 타입 변경\n",
    "df_calendar[price_float] = df_calendar[price_float].astype(float)"
   ]
  },
  {
   "cell_type": "code",
   "execution_count": null,
   "id": "a42610c5",
   "metadata": {},
   "outputs": [],
   "source": [
    "# df_calendar.loc[df_calendar['listing_id'] == 197677].describe()\n",
    "# 가격변화를 보기위해 숙소 최빈값을 검색\n",
    "\n",
    "print(df_calendar['listing_id'].mode())\n",
    "_=\"\"\"결과\n",
    "0                 4690684       # 👈 분석대상\n",
    "1                 5738050       # 👈 분석대상\n",
    "...\n",
    "51    1342364577456789638\n",
    "Name: listing_id, dtype: int64\n",
    "\"\"\""
   ]
  },
  {
   "cell_type": "code",
   "execution_count": null,
   "id": "5d3fcc3d",
   "metadata": {},
   "outputs": [],
   "source": [
    "# 최빈값 2개에 대하여 \".describe()\" 실행했지만 가격 변동이 없었음\n",
    "\n",
    "df_calendar.loc[df_calendar['listing_id'] == 4690684].describe()\n",
    "\n",
    "df_calendar.loc[df_calendar['listing_id'] == 5738050].describe()\n",
    "\n",
    "_=\"\"\"                                                                  [👇]\n",
    "       listing_id  adjusted_price  minimum_nights  maximum_nights  price_float\n",
    "count       366.0             0.0           365.0           365.0        366.0\n",
    "mean    4690684.0             NaN            14.0           120.0       4725.0\n",
    "std           0.0             NaN             0.0             0.0          0.0\n",
    "min     4690684.0             NaN            14.0           120.0       4725.0\n",
    "25%     4690684.0             NaN            14.0           120.0       4725.0\n",
    "50%     4690684.0             NaN            14.0           120.0       4725.0\n",
    "75%     4690684.0             NaN            14.0           120.0       4725.0\n",
    "max     4690684.0             NaN            14.0           120.0       4725.0\n",
    "       listing_id  adjusted_price  minimum_nights  maximum_nights  price_float\n",
    "count       366.0             0.0           365.0           365.0        366.0\n",
    "mean    5738050.0             NaN             3.0          1125.0       5500.0\n",
    "std           0.0             NaN             0.0             0.0          0.0\n",
    "min     5738050.0             NaN             3.0          1125.0       5500.0\n",
    "25%     5738050.0             NaN             3.0          1125.0       5500.0\n",
    "50%     5738050.0             NaN             3.0          1125.0       5500.0\n",
    "75%     5738050.0             NaN             3.0          1125.0       5500.0\n",
    "max     5738050.0             NaN             3.0          1125.0       5500.0\n",
    "\"\"\""
   ]
  },
  {
   "cell_type": "markdown",
   "id": "db0f4149",
   "metadata": {},
   "source": [
    "---"
   ]
  },
  {
   "cell_type": "markdown",
   "id": "4d7c0709",
   "metadata": {},
   "source": [
    "##### **중간정리**\n",
    "- 날짜별 가격변화를 예측 = 불가 판단\n",
    "- 데이터셑 및 주제 변경"
   ]
  },
  {
   "cell_type": "markdown",
   "id": "8be0cfa7",
   "metadata": {},
   "source": [
    "---"
   ]
  },
  {
   "cell_type": "markdown",
   "id": "4754f3b9",
   "metadata": {},
   "source": [
    "### 주제탐색2 - 숙소 조건에 따른 숙소 가격 예측"
   ]
  },
  {
   "cell_type": "markdown",
   "id": "93ef50e2",
   "metadata": {},
   "source": [
    "##### 1. 데이터 로드"
   ]
  },
  {
   "cell_type": "code",
   "execution_count": null,
   "id": "6050938b",
   "metadata": {},
   "outputs": [],
   "source": [
    "\n",
    "df_listings = pd.read_csv('./data/listings.csv.gz', compression='gzip')"
   ]
  },
  {
   "cell_type": "markdown",
   "id": "1963ba6a",
   "metadata": {},
   "source": [
    "##### 2. 데이터 구조 및 기초 통계 확인"
   ]
  },
  {
   "cell_type": "code",
   "execution_count": null,
   "id": "51c5f4ea",
   "metadata": {},
   "outputs": [],
   "source": [
    "# 데이터 구조 분석\n",
    "df_listings.info()\n",
    "\n",
    "_=\"\"\"\n",
    "데이터 총: 25,297\n",
    "컬럼 총: 79개\n",
    "\"\"\"\n",
    "\n",
    "# df_listings.describe()"
   ]
  },
  {
   "cell_type": "markdown",
   "id": "51687faf",
   "metadata": {},
   "source": [
    "##### - 전체 컬럼 리스트\n",
    "- 회의롤 통해 1차적으로 필요/불필요 컬럼을 구별"
   ]
  },
  {
   "cell_type": "code",
   "execution_count": null,
   "id": "4b9b1f61",
   "metadata": {},
   "outputs": [],
   "source": [
    "# 전체 컬럼\n",
    "all_columns = {\n",
    "    'id': '각 숙소의 고유 식별자',\n",
    "    'listing_url': '숙소의 웹페이지 URL',\n",
    "    'scrape_id': '데이터 스크래핑 작업의 고유 식별자',\n",
    "    'last_scraped': '숙소 정보가 마지막으로 스크래핑된 날짜',\n",
    "    'source': '숙소 정보의 출처',\n",
    "    'name': '숙소의 이름',\n",
    "    'description': '숙소에 대한 상세 설명',\n",
    "    'neighborhood_overview': '숙소 주변 지역에 대한 설명',\n",
    "    'picture_url': '숙소 대표 사진의 URL',\n",
    "    'host_id': '호스트의 고유 식별자',\n",
    "    'host_url': '호스트의 웹페이지 URL',\n",
    "    'host_name': '호스트의 이름',\n",
    "    'host_since': '호스트가 에어비앤비에 가입한 날짜',\n",
    "    'host_location': '호스트의 위치',\n",
    "    'host_about': '호스트에 대한 자기소개',\n",
    "    'host_response_time': '호스트의 평균 응답 시간',\n",
    "    'host_response_rate': '호스트의 응답률',\n",
    "    'host_acceptance_rate': '호스트의 예약 수락률',\n",
    "    'host_is_superhost': '호스트가 슈퍼호스트인지 여부',\n",
    "    'host_thumbnail_url': '호스트 프로필 썸네일 이미지의 URL',\n",
    "    'host_picture_url': '호스트 프로필 사진의 URL',\n",
    "    'host_neighbourhood': '호스트가 거주하는 지역',\n",
    "    'host_listings_count': '해당 호스트가 보유한 전체 숙소 수',\n",
    "    'host_total_listings_count': '해당 호스트가 소유하거나 관리하는 전체 숙소 수',\n",
    "    'host_verifications': '호스트의 인증 정보 목록',\n",
    "    'host_has_profile_pic': '호스트가 프로필 사진을 가지고 있는지 여부',\n",
    "    'host_identity_verified': '호스트 신원이 인증되었는지 여부',\n",
    "    'neighbourhood': '숙소가 위치한 지역의 이름',\n",
    "    'neighbourhood_cleansed': '정제된 숙소 지역 이름',\n",
    "    'neighbourhood_group_cleansed': '정제된 숙소 지역 그룹 이름',\n",
    "    'latitude': '숙소의 위도',\n",
    "    'longitude': '숙소의 경도',\n",
    "    'property_type': '숙소의 종류',\n",
    "    'room_type': '숙소의 방 유형',\n",
    "    'accommodates': '숙소가 수용 가능한 최대 인원 수',\n",
    "    'bathrooms': '숙소의 욕실 개수',\n",
    "    'bathrooms_text': '숙소의 욕실 개수를 설명하는 텍스트',\n",
    "    'bedrooms': '숙소의 침실 개수',\n",
    "    'beds': '숙소의 침대 개수',\n",
    "    'amenities': '숙소에 제공되는 편의 시설 목록',\n",
    "    'price': '숙소의 1박당 가격',\n",
    "    'minimum_nights': '최소 숙박 가능 일수',\n",
    "    'maximum_nights': '최대 숙박 가능 일수',\n",
    "    'minimum_minimum_nights': '호스트가 설정한 최소 숙박 일수 중 가장 낮은 값',\n",
    "    'maximum_minimum_nights': '호스트가 설정한 최소 숙박 일수 중 가장 높은 값',\n",
    "    'minimum_maximum_nights': '호스트가 설정한 최대 숙박 일수 중 가장 낮은 값',\n",
    "    'maximum_maximum_nights': '호스트가 설정한 최대 숙박 일수 중 가장 높은 값',\n",
    "    'minimum_nights_avg_ntm': '최소 숙박 일수의 평균값',\n",
    "    'maximum_nights_avg_ntm': '최대 숙박 일수의 평균값',\n",
    "    'calendar_updated': '달력이 마지막으로 업데이트된 시점',\n",
    "    'has_availability': '숙소 예약 가능 여부',\n",
    "    'availability_30': '향후 30일 동안의 숙소 예약 가능 일수',\n",
    "    'availability_60': '향후 60일 동안의 숙소 예약 가능 일수',\n",
    "    'availability_90': '향후 90일 동안의 숙소 예약 가능 일수',\n",
    "    'availability_365': '향후 365일 동안의 숙소 예약 가능 일수',\n",
    "    'calendar_last_scraped': '달력 정보가 마지막으로 스크래핑된 날짜',\n",
    "    'number_of_reviews': '총 리뷰 개수',\n",
    "    'number_of_reviews_ltm': '지난 12개월 동안의 리뷰 개수',\n",
    "    'number_of_reviews_l30d': '지난 30일 동안의 리뷰 개수',\n",
    "    'availability_eoy': '연말까지의 예약 가능 일수',\n",
    "    'number_of_reviews_ly': '지난 1년 동안의 리뷰 개수',\n",
    "    'estimated_occupancy_l365d': '지난 365일 동안의 예상 점유율',\n",
    "    'estimated_revenue_l365d': '지난 365일 동안의 예상 수입',\n",
    "    'first_review': '첫 번째 리뷰가 작성된 날짜',\n",
    "    'last_review': '마지막 리뷰가 작성된 날짜',\n",
    "    'review_scores_rating': '총 리뷰 점수(별점)의 평균값',\n",
    "    'review_scores_accuracy': '정확도 리뷰 점수',\n",
    "    'review_scores_cleanliness': '청결도 리뷰 점수',\n",
    "    'review_scores_checkin': '체크인 경험 리뷰 점수',\n",
    "    'review_scores_communication': '소통 리뷰 점수',\n",
    "    'review_scores_location': '위치 리뷰 점수',\n",
    "    'review_scores_value': '가격 대비 가치 리뷰 점수',\n",
    "    'license': '숙소의 라이선스 정보',\n",
    "    'instant_bookable': '즉시 예약이 가능한 숙소인지 여부',\n",
    "    'calculated_host_listings_count': '호스트가 등록한 숙소 개수',\n",
    "    'calculated_host_listings_count_entire_homes': '호스트가 등록한 \\'전체 숙소/아파트\\' 유형의 개수',\n",
    "    'calculated_host_listings_count_private_rooms': '호스트가 등록한 \\'개인실\\' 유형의 개수',\n",
    "    'calculated_host_listings_count_shared_rooms': '호스트가 등록한 \\'공용 공간\\' 유형의 개수',\n",
    "    'reviews_per_month': '월별 평균 리뷰 개수'\n",
    "}\n",
    "\n",
    "# 드롭 컬럼, host_id는 분석에 쓰임 분석 후 드롭 예정\n",
    "drop_list = [\n",
    "'id',\t                                        # 각 숙소의 고유 식별자\n",
    "'listing_url',\t                                # 숙소의 웹페이지 URL\n",
    "'scrape_id',\t                                # 데이터 스크래핑 작업의 고유 식별자\n",
    "'last_scraped',\t                                # 숙소 정보가 마지막으로 스크래핑된 날짜\n",
    "'source',\t                                    # 숙소 정보의 출처\n",
    "'name',\t                                        # 숙소의 이름\n",
    "'description',\t                                # 숙소에 대한 상세 설명\n",
    "'neighborhood_overview',\t                    # 숙소 주변 지역에 대한 설명\n",
    "'picture_url',\t                                # 숙소 대표 사진의 URL\n",
    "# 'host_id',\t                                    # 호스트의 고유 식별자\n",
    "'host_url',\t                                    # 호스트의 웹페이지 URL\n",
    "'host_name',\t                                # 호스트의 이름\n",
    "'host_since',\t                                # 호스트가 에어비앤비에 가입한 날짜\n",
    "'host_location',\t                            # 호스트의 위치\n",
    "'host_about',\t                                # 호스트에 대한 자기소개\n",
    "'host_response_time',\t                        # 호스트의 평균 응답 시간\n",
    "'host_response_rate',\t                        # 호스트의 응답률\n",
    "'host_acceptance_rate',\t                        # 호스트의 예약 수락률\n",
    "'host_is_superhost',\t                        # 호스트가 슈퍼호스트인지 여부\n",
    "'host_thumbnail_url',\t                        # 호스트 프로필 썸네일 이미지의 URL\n",
    "'host_picture_url',\t                            # 호스트 프로필 사진의 URL\n",
    "'host_neighbourhood',\t                        # 호스트가 거주하는 지역\n",
    "'host_listings_count',\t                        # 해당 호스트가 보유한 전체 숙소 수\n",
    "'host_total_listings_count',\t                # 해당 호스트가 소유하거나 관리하는 전체 숙소 수\n",
    "'host_verifications',\t                        # 호스트의 인증 정보 목록\n",
    "'host_has_profile_pic',\t                        # 호스트가 프로필 사진을 가지고 있는지 여부\n",
    "'host_identity_verified',\t                    # 호스트 신원이 인증되었는지 여부\n",
    "'neighbourhood',\t                            # 숙소가 위치한 지역의 이름\n",
    "'neighbourhood_group_cleansed',\t                # 정제된 숙소 지역 그룹 이름\n",
    "'bathrooms_text',\t                            # 숙소의 욕실 개수를 설명하는 텍스트\n",
    "'minimum_nights',\t                            # 최소 숙박 가능 일수\n",
    "'maximum_nights',\t                            # 최대 숙박 가능 일수\n",
    "'minimum_minimum_nights',\t                    # 호스트가 설정한 최소 숙박 일수 중 가장 낮은 값\n",
    "'maximum_minimum_nights',\t                    # 호스트가 설정한 최소 숙박 일수 중 가장 높은 값\n",
    "'minimum_maximum_nights',\t                    # 호스트가 설정한 최대 숙박 일수 중 가장 낮은 값\n",
    "'maximum_maximum_nights',\t                    # 호스트가 설정한 최대 숙박 일수 중 가장 높은 값\n",
    "'minimum_nights_avg_ntm',\t                    # 최소 숙박 일수의 평균값\n",
    "'maximum_nights_avg_ntm',\t                    # 최대 숙박 일수의 평균값\n",
    "'calendar_updated',\t                            # 달력이 마지막으로 업데이트된 시점\n",
    "'has_availability',\t                            # 숙소 예약 가능 여부\n",
    "'availability_30',\t                            # 향후 30일 동안의 숙소 예약 가능 일수\n",
    "'availability_60',\t                            # 향후 60일 동안의 숙소 예약 가능 일수\n",
    "'availability_90',\t                            # 향후 90일 동안의 숙소 예약 가능 일수\n",
    "'availability_365',\t                            # 향후 365일 동안의 숙소 예약 가능 일수\n",
    "'calendar_last_scraped',\t                    # 달력 정보가 마지막으로 스크래핑된 날짜\n",
    "'availability_eoy',\t                            # 연말까지의 예약 가능 일수\n",
    "'estimated_occupancy_l365d',\t                # 지난 365일 동안의 예상 점유율\n",
    "'estimated_revenue_l365d',\t                    # 지난 365일 동안의 예상 수입\n",
    "'license',\t                                    # 숙소의 라이선스 정보\n",
    "'instant_bookable',\t                            # 즉시 예약이 가능한 숙소인지 여부\n",
    "'calculated_host_listings_count',\t            # 호스트가 등록한 숙소 개수\n",
    "'calculated_host_listings_count_entire_homes',\t# 호스트가 등록한 '전체 숙소/아파트' 유형의 개수\n",
    "'calculated_host_listings_count_private_rooms',\t# 호스트가 등록한 '개인실' 유형의 개수\n",
    "'calculated_host_listings_count_shared_rooms',\t# 호스트가 등록한 '공용 공간' 유형의 개수\n",
    "'reviews_per_month'\t                            # 월별 평균 리뷰 개수\n",
    "]\n"
   ]
  },
  {
   "cell_type": "code",
   "execution_count": null,
   "id": "da91f12d",
   "metadata": {},
   "outputs": [],
   "source": [
    "\n",
    "# 불필요 컬럼 드롭 처리\n",
    "df_listings = df_listings.drop(drop_list, axis=1)\n"
   ]
  },
  {
   "cell_type": "code",
   "execution_count": null,
   "id": "76b87618",
   "metadata": {},
   "outputs": [],
   "source": [
    "# 불필요 컬럼 드롭 후 컬럼 상세 분석\n",
    "\n",
    "df_listings.info()\n",
    "\n",
    "_=\"\"\"\n",
    "<class 'pandas.core.frame.DataFrame'>\n",
    "RangeIndex: 25297 entries, 0 to 25296\n",
    "Data columns (total 24 columns):\n",
    " #   Column                       Non-Null Count  Dtype  \n",
    "---  ------                       --------------  -----  \n",
    " 0   neighbourhood_cleansed       25297 non-null  object \n",
    " 1   latitude                     25297 non-null  float64\n",
    " 2   longitude                    25297 non-null  float64\n",
    " 3   property_type                25297 non-null  object \n",
    " 4   room_type                    25297 non-null  object \n",
    " 5   accommodates                 25297 non-null  int64  \n",
    " 6   bathrooms                    23253 non-null  float64\n",
    " 7   bedrooms                     25040 non-null  float64\n",
    " 8   beds                         23255 non-null  float64\n",
    " 9   amenities                    25297 non-null  object \n",
    " 10  price                        23260 non-null  object\n",
    " 11  number_of_reviews            25297 non-null  int64  \n",
    " 12  number_of_reviews_ltm        25297 non-null  int64  \n",
    " 13  number_of_reviews_l30d       25297 non-null  int64  \n",
    " 14  number_of_reviews_ly         25297 non-null  int64  \n",
    " 15  first_review                 21724 non-null  object\n",
    " 16  last_review                  21724 non-null  object\n",
    " 17  review_scores_rating         21724 non-null  float64\n",
    " 18  review_scores_accuracy       21720 non-null  float64\n",
    " 19  review_scores_cleanliness    21720 non-null  float64\n",
    " 20  review_scores_checkin        21720 non-null  float64\n",
    " 21  review_scores_communication  21720 non-null  float64\n",
    " 22  review_scores_location       21720 non-null  float64\n",
    " 23  review_scores_value          21720 non-null  float64\n",
    "dtypes: float64(12), int64(5), object(7)\n",
    "memory usage: 4.6+ MB\n",
    "\"\"\""
   ]
  },
  {
   "cell_type": "markdown",
   "id": "6961787c",
   "metadata": {},
   "source": [
    "##### object 형을 가진 데이터 추적 (+ 범례형 숫자데이터)"
   ]
  },
  {
   "cell_type": "code",
   "execution_count": null,
   "id": "0483f24e",
   "metadata": {},
   "outputs": [],
   "source": [
    "# neighbourhood_cleansed    # 정제된 숙소 지역 이름.\n",
    "# property_type             # 숙소의 종류.\n",
    "# room_type                 # 숙소의 방 유형.\n",
    "# accommodates              # 숙소가 수용 가능한 최대 인원 수.\n",
    "# bedrooms                  # 숙소의 침실 개수.\n",
    "# bathrooms                 # 숙소의 욕실 개수.\n",
    "# ------------------------------------------------------------\n",
    "# amenities                 # 숙소에 제공되는 편의 시설 목록.\n",
    "# price                     # 숙소의 1박당 가격.\n"
   ]
  },
  {
   "cell_type": "code",
   "execution_count": null,
   "id": "0b32cecd",
   "metadata": {},
   "outputs": [],
   "source": [
    "target_cols = [\n",
    "    'neighbourhood_cleansed',\n",
    "    'property_type',\n",
    "    'room_type',\n",
    "    'accommodates',\n",
    "    'bathrooms',\n",
    "    'bedrooms',\n",
    "    'beds'\n",
    "]\n",
    "\n",
    "# 각 컬럼별 고유값과 개수 추출\n",
    "unique_info = []\n",
    "\n",
    "for col in target_cols:\n",
    "    unique_vals = df_listings[col].unique()\n",
    "    unique_count = df_listings[col].nunique()\n",
    "    unique_info.append({\n",
    "        \"column\": col,\n",
    "        \"unique_count\": unique_count,\n",
    "        \"unique_values\": unique_vals\n",
    "    })\n",
    "\n",
    "# DataFrame 변환\n",
    "df_listings_unique = pd.DataFrame(unique_info)\n",
    "\n",
    "# 고유값 개수 기준 오름차순 정렬\n",
    "df_listings_unique = df_listings_unique.sort_values(by=\"unique_count\", ascending=True).reset_index(drop=True)\n",
    "\n",
    "# 출력\n",
    "df_listings_unique"
   ]
  },
  {
   "cell_type": "code",
   "execution_count": null,
   "id": "f7c007a2",
   "metadata": {},
   "outputs": [],
   "source": [
    "# amenities # 숙소에 제공되는 편의 시설 목록. # 배열형 문자열 데이터, 상세분석 필요\n",
    "df_listings['amenities'].head(5)"
   ]
  },
  {
   "cell_type": "code",
   "execution_count": null,
   "id": "e5680d38",
   "metadata": {},
   "outputs": [],
   "source": [
    "# price # 숙소의 1박당 가격. # 문자격 가격 데이터, 상세 분석 필요\n",
    "\n",
    "df_listings['price'].head(5)"
   ]
  },
  {
   "cell_type": "code",
   "execution_count": null,
   "id": "eed6a58b",
   "metadata": {},
   "outputs": [],
   "source": [
    "# first_review # 첫 번째 리뷰가 작성된 날짜. # 문자형 날짜 데이터, 상세 분석 필요\n",
    "# last_review # 마지막 리뷰가 작성된 날짜. # 문자형 날짜 데이터, 상세 분석 필요\n",
    "\n",
    "df_listings['first_review'].head(5)\n",
    "df_listings['last_review'].head(5)"
   ]
  },
  {
   "cell_type": "markdown",
   "id": "d1c8064d",
   "metadata": {},
   "source": [
    "---\n",
    "##### **중간정리**\n",
    "- 여러 데이터에 따른 숙소 가격 예측이 가능할 것으로 판단\n",
    "  - EDA용 데이터셑으로 확정 및 진행 결정\n",
    "- 컬럼명, 설명으로 컬럼 제거 최초 진행하였음\n",
    "- 컬럼명으로 영향도가 커보이는/추가 분석이 필요한 컬럼 분류"
   ]
  },
  {
   "cell_type": "code",
   "execution_count": null,
   "id": "20547b7d",
   "metadata": {},
   "outputs": [],
   "source": [
    "# 컬럼명으로 영향도가 커보이는/추가 분석이 필요한 컬럼 분류\n",
    "\n",
    "# 정답 데이터\n",
    "\"\"\"\n",
    "price\n",
    "\"\"\"\n",
    "\n",
    "# 영향도가 커보이는\n",
    "\"\"\"\n",
    "neighbourhood_cleansed      # 정제된 숙소 지역 이름.\n",
    "property_type               # 숙소의 종류.\n",
    "room_type                   # 숙소의 방 유형.\n",
    "accommodates                # 수용 가능한 최대 인원 수\n",
    "bathrooms                   # 숙소의 욕실 개수\n",
    "bedrooms                    # 침실 개수.\n",
    "beds                        # 침대 개수.\n",
    "\"\"\"\n",
    "\n",
    "# 추가 분석이 필요한\n",
    "\"\"\"\n",
    "latitude                    # 위도\n",
    "longitude                   # 경도\n",
    "\n",
    "amenities                   # 편의 시설 목록\n",
    "\n",
    "number_of_reviews           # 총 리뷰 개수.\n",
    "number_of_reviews_ltm       # 지난 12개월 동안의 리뷰 개수.\n",
    "number_of_reviews_l30d      # 지난 30일 동안의 리뷰 개수.\n",
    "number_of_reviews_ly        # 지난 1년 동안의 리뷰 개수.\n",
    "first_review                # 첫 번째 리뷰가 작성된 날짜.\n",
    "last_review                 # 마지막 리뷰가 작성된 날짜.\n",
    "review_scores_rating        # 총 리뷰 점수(별점)의 평균값.\n",
    "review_scores_accuracy      # 정확도 리뷰 점수.\n",
    "review_scores_cleanliness   # 청결도 리뷰 점수.\n",
    "review_scores_checkin       # 체크인 경험 리뷰 점수.\n",
    "review_scores_communication # 소통 리뷰 점수.\n",
    "review_scores_location      # 위치 리뷰 점수.\n",
    "review_scores_value         # 가격 대비 가치 리뷰 점수.\n",
    "\"\"\""
   ]
  },
  {
   "cell_type": "markdown",
   "id": "8eae19bf",
   "metadata": {},
   "source": [
    "---"
   ]
  },
  {
   "cell_type": "markdown",
   "id": "e785a267",
   "metadata": {},
   "source": [
    "### 3. 결측치 및 이상치 탐색"
   ]
  },
  {
   "cell_type": "code",
   "execution_count": null,
   "id": "44e8e40d",
   "metadata": {},
   "outputs": [],
   "source": [
    "def print_len_now(text=\"\"):\n",
    "    print(text,'행 개수:', len(df_listings))"
   ]
  },
  {
   "cell_type": "code",
   "execution_count": null,
   "id": "33ad1f62",
   "metadata": {},
   "outputs": [],
   "source": [
    "print(df_listings.isna().sum())\n",
    "\n",
    "_=\"\"\"\n",
    "neighbourhood_cleansed            0\n",
    "latitude                          0\n",
    "longitude                         0\n",
    "property_type                     0\n",
    "room_type                         0\n",
    "accommodates                      0\n",
    "bathrooms                      2044     👈 결측치 있음\n",
    "bedrooms                        257     👈 결측치 있음\n",
    "beds                           2042     👈 결측치 있음\n",
    "amenities                         0\n",
    "price                          2037     👈 결측치 있음\n",
    "number_of_reviews                 0\n",
    "number_of_reviews_ltm             0\n",
    "number_of_reviews_l30d            0\n",
    "number_of_reviews_ly              0\n",
    "first_review                   3573     👈 결측치 있음\n",
    "last_review                    3573     👈 결측치 있음\n",
    "review_scores_rating           3573     👈 결측치 있음\n",
    "review_scores_accuracy         3577     👈 결측치 있음\n",
    "review_scores_cleanliness      3577     👈 결측치 있음\n",
    "review_scores_checkin          3577     👈 결측치 있음\n",
    "review_scores_communication    3577     👈 결측치 있음\n",
    "review_scores_location         3577     👈 결측치 있음\n",
    "review_scores_value            3577     👈 결측치 있음\n",
    "dtype: int64\n",
    "\"\"\""
   ]
  },
  {
   "cell_type": "markdown",
   "id": "5505c7c9",
   "metadata": {},
   "source": [
    "##### price\n",
    "주제(숙소 조건에 따른 숙소 가격 예측)을 위해선 숫자 데이터 결측치 및 이상치가 먼저 처리되야 한다고 판단"
   ]
  },
  {
   "cell_type": "code",
   "execution_count": null,
   "id": "ee3f8a3b",
   "metadata": {},
   "outputs": [],
   "source": [
    "# price 문자형 -> float 변경\n",
    "\n",
    "# 추적용 price_text 컬럼 생성\n",
    "df_listings['price_text'] = df_listings['price']\n",
    "\n",
    "# 'price_float' 컬럼에서 '$'와 ',' 제거\n",
    "df_listings['price'] = df_listings['price'].str.replace('$', '', regex=False).str.replace(',', '', regex=False)\n",
    "\n",
    "# 컬럼 타입 변경\n",
    "df_listings['price'] = df_listings['price'].astype(float)"
   ]
  },
  {
   "cell_type": "markdown",
   "id": "17097187",
   "metadata": {},
   "source": [
    "price 결측치 처리를 위한 결측치가 없는 범례형 컬럼-가격 연관성 파악"
   ]
  },
  {
   "cell_type": "code",
   "execution_count": null,
   "id": "b154234f",
   "metadata": {},
   "outputs": [],
   "source": [
    "# price 결측치 처리를 위한 결측치가 없는 범례형 컬럼-가격 연관성 파악\n",
    "\n",
    "rt_price = df_listings.groupby('room_type')['price'].mean().sort_values(ascending=False)\n",
    "pt_price = df_listings.groupby('property_type')['price'].mean().sort_values(ascending=False)\n",
    "acc_price = df_listings.groupby('accommodates')['price'].mean().sort_values(ascending=False)\n",
    "nc_price = df_listings.groupby('neighbourhood_cleansed')['price'].mean().sort_values(ascending=False)\n",
    "\n",
    "\n",
    "fig, axes = plt.subplots(2, 2, figsize=(16, 12))\n",
    "\n",
    "# 1. room_type\n",
    "sns.barplot(x=rt_price, y=rt_price.index, hue=rt_price.index, ax=axes[0, 0])\n",
    "axes[0, 0].set_title('room_type')\n",
    "\n",
    "# 2. property_type\n",
    "sns.barplot(x=pt_price, y=pt_price.index, hue=pt_price.index, ax=axes[0, 1])\n",
    "axes[0, 1].set_title('property_type')\n",
    "\n",
    "# 3. accommodates\n",
    "sns.barplot(x=acc_price.index, y=acc_price, hue=acc_price.index, ax=axes[1, 0])\n",
    "axes[1, 0].set_title('accommodates')\n",
    "\n",
    "# 4. neighbourhood_cleansed\n",
    "sns.barplot(x=nc_price, y=nc_price.index, hue=nc_price.index, ax=axes[1, 1])\n",
    "axes[1, 1].set_title('neighbourhood_cleansed')\n",
    "\n",
    "plt.tight_layout()\n",
    "plt.show()"
   ]
  },
  {
   "cell_type": "markdown",
   "id": "3616de0a",
   "metadata": {},
   "source": [
    "price의 결측치를 특성 그룹별 평균값으로 대체"
   ]
  },
  {
   "cell_type": "code",
   "execution_count": null,
   "id": "1eb5a03e",
   "metadata": {},
   "outputs": [],
   "source": [
    "# isna_cnt1 = df_listings['price'].isna().sum()\n",
    "# print('결측치',isna_cnt1, '개 ')\n",
    "\n",
    "def fillna_groupby_mean_price(groupby_columns):\n",
    "    \"\"\"\n",
    "    호출 예:\n",
    "    groupby_columns = [\n",
    "        ['room_type', 'property_type', 'accommodates', 'neighbourhood_cleansed'],\n",
    "        ['room_type', 'property_type', 'accommodates'],\n",
    "        ['room_type', 'accommodates'],\n",
    "        ['room_type', 'property_type']\n",
    "    ]\n",
    "    fillna_groupby_mean_price(groupby_columns)\n",
    "    \"\"\"\n",
    "    def get_na_cnt():\n",
    "        # 'price' 열의 결측치 개수를 반환하는 내부 함수\n",
    "        return df_listings['price'].isna().sum()\n",
    "\n",
    "    print('최초 결측치', get_na_cnt(), '개 ')\n",
    "\n",
    "    for gc in groupby_columns:\n",
    "        # 각 그룹핑 컬럼을 기준으로 그룹별 평균값으로 결측치를 채움\n",
    "        df_listings['price'] = df_listings['price'].fillna(\n",
    "            df_listings.groupby(gc)['price'].transform('mean')\n",
    "        )\n",
    "        print(f\"'{gc}' 컬럼으로 처리 후 결측치 {get_na_cnt()} 개\")\n",
    "\n",
    "groupby_columns = [\n",
    "    ['room_type', 'property_type', 'accommodates', 'neighbourhood_cleansed'],\n",
    "    ['room_type', 'property_type', 'accommodates'],\n",
    "    ['room_type', 'accommodates'],\n",
    "    ['room_type', 'property_type']\n",
    "]\n",
    "\n",
    "fillna_groupby_mean_price(groupby_columns)"
   ]
  },
  {
   "cell_type": "code",
   "execution_count": null,
   "id": "3cb87e4c",
   "metadata": {},
   "outputs": [],
   "source": [
    "# price 이상치 탐색\n",
    "\n",
    "df_listings['price'].describe()"
   ]
  },
  {
   "cell_type": "code",
   "execution_count": null,
   "id": "58ba1ab9",
   "metadata": {},
   "outputs": [],
   "source": [
    "# price 이상치 탐색 - 상세\n",
    "\n",
    "def drop_price_over(df:pd.DataFrame ,target_price:int):\n",
    "    \"\"\"\n",
    "    target_price(해당 금액) 이상 행 드롭해서 반환\n",
    "    \"\"\"\n",
    "    return df.drop(df[df['price'] > target_price].index, axis=0)\n",
    "\n",
    "def drop_price_above(df: pd.DataFrame, percent: float | int, price_col='price'):\n",
    "    \"\"\"\n",
    "    주어진 DataFrame에서 특정 열의 가격이 상위 `percent`에 해당하는 값을 초과하는 행을 제거합니다.\n",
    "\n",
    "    Args:\n",
    "        df (pd.DataFrame): 처리할 원본 DataFrame.\n",
    "        percent (float): 제거할 상위 백분위(예: 95는 상위 5%를 제거).\n",
    "        price_col (str, optional): 가격 데이터가 있는 열의 이름. 기본값은 'price'.\n",
    "\n",
    "    Returns:\n",
    "        pd.DataFrame: 상위 `percent`에 해당하는 가격을 초과하는 행이 제거된 DataFrame.\n",
    "    \"\"\"\n",
    "    percent = percent / 100\n",
    "    rangex = df[price_col].quantile(percent)\n",
    "    return df[df[price_col] < rangex]\n",
    "\n",
    "df_price_over_2m = drop_price_over(df_listings, 2_000_000)   # 2,000,000 이상 제거\n",
    "df_price_above_99 = drop_price_above(df_listings, 99)   # 상위 1% 제거\n",
    "df_price_above_95 = drop_price_above(df_listings, 95)   # 상위 5% 제거\n",
    "df_price_above_90 = drop_price_above(df_listings, 90)   # 상위 10% 제거\n",
    "df_price_above_85 = drop_price_above(df_listings, 85)   # 상위 15% 제거\n",
    "\n",
    "\n",
    "fig, axes = plt.subplots(2, 3, figsize=(12, 12))\n",
    "fig.suptitle('가격 분포 비교 (상위 % 제거)', fontsize=16, fontweight='bold')\n",
    "\n",
    "# 각 subplot에 대한 데이터와 제목\n",
    "datasets = [\n",
    "    (df_listings, f'전체 ({len(df_listings):,})', 0, 0, \"#FF5C5C\"),\n",
    "    (df_price_above_99, f'상위 2m 이상 제거 ({len(df_price_over_2m):,})', 0, 1, \"#FF9D4C\"),\n",
    "    (df_price_above_99, f'상위 1% 제거 ({len(df_price_above_99):,})', 0, 2, \"#FFD13A\"),\n",
    "    (df_price_above_95, f'상위 5% 제거 ({len(df_price_above_95):,})', 1, 0, \"#1BE700\"),\n",
    "    (df_price_above_90, f'상위 10% 제거 ({len(df_price_above_90):,})', 1, 1, \"#558BFF\"),\n",
    "    (df_price_above_85, f'상위 15% 제거 ({len(df_price_above_85):,})', 1, 2, \"#D61CD6\"),\n",
    "]\n",
    "\n",
    "for i, (df, title, row, col, color) in enumerate(datasets):\n",
    "    # boxplot 그리기\n",
    "    sns.boxplot(\n",
    "        y=df['price'],\n",
    "        ax=axes[row, col],\n",
    "        color=color,\n",
    "        width=0.5,\n",
    "        flierprops=dict(\n",
    "            marker='o', markerfacecolor=color, markersize=5, \n",
    "                markeredgewidth=0.8, alpha=0.9\n",
    "        )\n",
    "    )\n",
    "    axes[row, col].set_title(title)\n",
    "   \n",
    "\n",
    "plt.tight_layout()\n",
    "plt.show()"
   ]
  },
  {
   "cell_type": "code",
   "execution_count": null,
   "id": "796152e2",
   "metadata": {},
   "outputs": [],
   "source": [
    "# 상위 1% 제거\n",
    "\n",
    "print_len_now('이상치 제거 전')\n",
    "df_listings = df_price_above_99\n",
    "print_len_now('이상치 제거 후')"
   ]
  },
  {
   "cell_type": "markdown",
   "id": "33c89ef8",
   "metadata": {},
   "source": [
    "##### 영향도가 커보이는"
   ]
  },
  {
   "cell_type": "code",
   "execution_count": null,
   "id": "02d788ab",
   "metadata": {},
   "outputs": [],
   "source": [
    "# 결측치 행 제거\n",
    "\n",
    "_=\"\"\"\n",
    "아래 컬럼들의 결측치에 대해서 무조건적인 드롭을 하려 했으나\n",
    "\"정말 화장실, 침실이 없는 경우는 어떻게 하지?\" 라는 생각이 들었음\n",
    "일단 공동 작업을 위해 드롭은 하나. ML에서 평가가 낮게 나올경우 재고 하기로 함\n",
    "\n",
    "\n",
    "bathrooms                      2044     👈 결측치 있음\n",
    "bedrooms                        257     👈 결측치 있음\n",
    "beds                           2042     👈 결측치 있음\n",
    "\"\"\"\n",
    "print_len_now('이상치 제거 전')\n",
    "# bathrooms, bedrooms, beds 결측치 있는 행 제거\n",
    "df_listings = df_listings.dropna(subset=['bathrooms','bedrooms','beds'])\n",
    "print_len_now('이상치 제거 후')\n",
    "\n",
    "df_listings.isna().sum()"
   ]
  },
  {
   "cell_type": "code",
   "execution_count": null,
   "id": "57e43947",
   "metadata": {},
   "outputs": [],
   "source": [
    "# 추출한 각 컬럼을 하나의 df으로 해서, 각 컬럼이 갖고 있는 고유 value와 그 개수를 뽑아내기\n",
    "\n",
    "target_cols = [\n",
    "    'neighbourhood_cleansed'      # 정제된 숙소 지역 이름.\n",
    "    ,'property_type'               # 숙소의 종류.\n",
    "    ,'room_type'                   # 숙소의 방 유형.\n",
    "    ,'accommodates'                # 수용 가능한 최대 인원 수\n",
    "    ,'bathrooms'                   # 숙소의 욕실 개수\n",
    "    ,'bedrooms'                    # 침실 개수.\n",
    "    ,'beds'                        # 침대 개수.\n",
    "]\n",
    "\n",
    "# 전체 행 출력을 위한 pandas 옵션 설정\n",
    "pd.set_option('display.max_rows', None)  # 모든 행 출력\n",
    "\n",
    "for col in target_cols:\n",
    "    print(f'\\n# ===== {col}({all_columns[col]}) =====\\n\"\"\"')\n",
    "    df_listings_counts = df_listings[col].value_counts().reset_index()\n",
    "    df_listings_counts.columns = [col, \"count\"]    \n",
    "    print(df_listings_counts)\n",
    "    print('\"\"\"')\n",
    "\n",
    "# 출력 후 기본값으로 복원 (선택사항)\n",
    "pd.reset_option('display.max_rows')"
   ]
  },
  {
   "cell_type": "code",
   "execution_count": null,
   "id": "9bcc5f4e",
   "metadata": {},
   "outputs": [],
   "source": [
    "\n",
    "# ===== neighbourhood_cleansed(정제된 숙소 지역 이름.) =====\n",
    "\"\"\"\n",
    "   neighbourhood_cleansed  count\n",
    "0             Shinjuku Ku   4363\n",
    "1               Sumida Ku   3307\n",
    "2              Toshima Ku   2309\n",
    "3                Taito Ku   2287\n",
    "4              Shibuya Ku   1553\n",
    "5                  Ota Ku   1074\n",
    "6               Minato Ku    906\n",
    "7             Setagaya Ku    854\n",
    "8           Katsushika Ku    767\n",
    "9                 Kita Ku    713\n",
    "10              Nakano Ku    689\n",
    "11            Suginami Ku    549\n",
    "12             Edogawa Ku    496\n",
    "13                Koto Ku    437\n",
    "14            Itabashi Ku    410\n",
    "15              Bunkyo Ku    399\n",
    "16              Adachi Ku    382\n",
    "17           Shinagawa Ku    352\n",
    "18                Chuo Ku    268\n",
    "19             Arakawa Ku    213\n",
    "20             Chiyoda Ku    203\n",
    "21              Meguro Ku    117\n",
    "22              Nerima Ku    115\n",
    "23          Musashino Shi     66\n",
    "24             Mitaka Shi     42\n",
    "25           Hachioji Shi     41\n",
    "26            Machida Shi     37\n",
    "27                Ome Shi     34\n",
    "28              Chofu Shi     27\n",
    "29               Hino Shi     24\n",
    "30          Kokubunji Shi     23\n",
    "31            Akiruno Shi     21\n",
    "32              Fuchu Shi     19\n",
    "33    Higashimurayama Shi     15\n",
    "34              Komae Shi     15\n",
    "35         Nishitokyo Shi     13\n",
    "36              Fussa Shi     12\n",
    "37            Koganei Shi     11\n",
    "38          Kunitachi Shi     11\n",
    "39             Kiyose Shi     11\n",
    "40            Kodaira Shi      9\n",
    "41          Tachikawa Shi      9\n",
    "42             Hamura Shi      7\n",
    "43           Akishima Shi      4\n",
    "44              Inagi Shi      4\n",
    "45          Okutama Machi      4\n",
    "46               Tama Shi      3\n",
    "47          Hinohara Mura      3\n",
    "48      Higashiyamato Shi      2\n",
    "\"\"\"\n",
    "\n",
    "# ===== property_type(숙소의 종류.) =====\n",
    "\"\"\"\n",
    "                         property_type  count\n",
    "0                   Entire rental unit  15246\n",
    "1                          Entire home   3274\n",
    "2                 Private room in home    818\n",
    "3          Private room in rental unit    765\n",
    "4                        Room in hotel    634\n",
    "5                         Entire condo    601\n",
    "6            Entire serviced apartment    338\n",
    "7                   Room in aparthotel    323\n",
    "8               Room in boutique hotel    184\n",
    "9                         Entire villa    179\n",
    "10              Private room in hostel    129\n",
    "11               Shared room in hostel     92\n",
    "12              Private room in ryokan     77\n",
    "13                         Entire loft     56\n",
    "14                      Room in hostel     47\n",
    "15  Private room in serviced apartment     44\n",
    "16               Private room in condo     44\n",
    "17                    Entire townhouse     37\n",
    "18                                 Hut     34\n",
    "19          Shared room in rental unit     27\n",
    "20                 Shared room in home     23\n",
    "21                 Private room in hut     21\n",
    "22                Shared room in hotel     18\n",
    "23                           Tiny home     18\n",
    "24               Shared room in kezhan     17\n",
    "25                  Entire guest suite     16\n",
    "26    Shared room in bed and breakfast     16\n",
    "27           Private room in townhouse     16\n",
    "28               Private room in villa     13\n",
    "29          Private room in guesthouse     12\n",
    "30                        Entire place     11\n",
    "31               Shared room in ryokan      9\n",
    "32                   Entire guesthouse      8\n",
    "33                Entire vacation home      8\n",
    "34               Private room in cabin      8\n",
    "35          Room in serviced apartment      8\n",
    "36                        Private room      6\n",
    "37           Private room in tiny home      5\n",
    "38                        Entire cabin      5\n",
    "39   Private room in bed and breakfast      5\n",
    "40           Shared room in aparthotel      4\n",
    "41                  Shared room in hut      4\n",
    "42        Private room in nature lodge      4\n",
    "43               Private room in tower      3\n",
    "44         Private room in guest suite      3\n",
    "45                      Entire cottage      3\n",
    "46                Private room in tent      2\n",
    "47       Private room in vacation home      2\n",
    "48                     Entire bungalow      1\n",
    "49              Private room in resort      1\n",
    "50       Shared room in boutique hotel      1\n",
    "51                 Room in rental unit      1\n",
    "52                           Treehouse      1\n",
    "53                       Entire chalet      1\n",
    "54                        Earthen home      1\n",
    "55               Private room in minsu      1\n",
    "56           Shared room in guesthouse      1\n",
    "57              Private room in kezhan      1\n",
    "58            Private room in bungalow      1\n",
    "59                                Tent      1\n",
    "60                  Shipping container      1\n",
    "\"\"\"\n",
    "\n",
    "# ===== room_type(숙소의 방 유형.) =====\n",
    "\"\"\"\n",
    "         room_type  count\n",
    "0  Entire home/apt  20093\n",
    "1     Private room   2832\n",
    "2      Shared room    212\n",
    "3       Hotel room     93\n",
    "\"\"\"\n",
    "\n",
    "# ===== accommodates(숙소가 수용 가능한 최대 인원 수.) =====\n",
    "\"\"\"\n",
    "    accommodates  count\n",
    "0              2   5688\n",
    "1              3   4499\n",
    "2              4   4218\n",
    "3              6   2227\n",
    "4              5   1744\n",
    "5              8   1230\n",
    "6              1    832\n",
    "7             10    697\n",
    "8              7    645\n",
    "9              9    367\n",
    "10            12    333\n",
    "11            16    269\n",
    "12            11    154\n",
    "13            14    128\n",
    "14            13    101\n",
    "15            15     98\n",
    "\"\"\"\n",
    "\n",
    "# ===== bathrooms(숙소의 욕실 개수.) =====\n",
    "\"\"\"\n",
    "    bathrooms  count\n",
    "0        1.00  18623\n",
    "1        1.50   2117\n",
    "2        2.00   1377\n",
    "3        0.50    383\n",
    "4        3.00    286\n",
    "5        2.50    144\n",
    "6        0.00    121\n",
    "7        4.00     75\n",
    "8        3.50     46\n",
    "9        5.00     13\n",
    "10      10.00      9\n",
    "11       4.50      8\n",
    "12       6.00      7\n",
    "13       5.50      6\n",
    "14       7.00      4\n",
    "15       9.00      3\n",
    "16      11.00      2\n",
    "17       8.50      2\n",
    "18       6.50      2\n",
    "19       8.00      2\n",
    "\"\"\"\n",
    "\n",
    "# ===== bedrooms(숙소의 침실 개수.) =====\n",
    "\"\"\"\n",
    "    bedrooms  count\n",
    "0       1.00  15390\n",
    "1       2.00   3633\n",
    "2       3.00   1776\n",
    "3       0.00   1401\n",
    "4       4.00    757\n",
    "5       5.00    173\n",
    "6       6.00     58\n",
    "7       7.00     20\n",
    "8       8.00     14\n",
    "9      10.00      5\n",
    "10      9.00      2\n",
    "11     11.00      1\n",
    "\"\"\"\n",
    "\n",
    "# ===== beds(숙소의 침대 개수.) =====\n",
    "\"\"\"\n",
    "    beds  count\n",
    "0   2.00   7495\n",
    "1   1.00   5542\n",
    "2   3.00   3466\n",
    "3   4.00   2362\n",
    "4   5.00   1345\n",
    "5   6.00   1024\n",
    "6   7.00    515\n",
    "7   8.00    432\n",
    "8   0.00    359\n",
    "9   9.00    210\n",
    "10 10.00    181\n",
    "11 11.00     90\n",
    "12 12.00     83\n",
    "13 13.00     36\n",
    "14 14.00     23\n",
    "15 16.00     20\n",
    "16 15.00     19\n",
    "17 17.00      9\n",
    "18 18.00      5\n",
    "19 20.00      5\n",
    "20 19.00      4\n",
    "21 23.00      1\n",
    "22 25.00      1\n",
    "23 21.00      1\n",
    "24 22.00      1\n",
    "25 24.00      1\n",
    "\"\"\""
   ]
  },
  {
   "cell_type": "code",
   "execution_count": null,
   "id": "6d13d626",
   "metadata": {},
   "outputs": [],
   "source": [
    "# 개수가 적어 유의미하지 않은 value를 이상값으로 처리\n",
    "# bathrooms 컬럼의 value가 15 초과면 제거\n",
    "# bedrooms 컬럼의 value가 15 초과면 제거\n",
    "# bed 컬럼의 value가 25 초과면 제거\n",
    "\n",
    "\n",
    "# 이상치 관련 상의 필요\n",
    "\n",
    "print_len_now('이상치 제거 전')\n",
    "\n",
    "df_listings = df_listings[\n",
    "    (df_listings['bathrooms'] <= 15) &\n",
    "    (df_listings['bedrooms'] <= 15) &\n",
    "    (df_listings['beds'] <= 25)\n",
    "]\n",
    "\n",
    "\n",
    "print_len_now('이상치 제거 후')\n",
    "print('-' * 50)\n",
    "print(df_listings['price'].describe().round(2))\n"
   ]
  },
  {
   "cell_type": "markdown",
   "id": "a874cc57",
   "metadata": {},
   "source": [
    "---\n",
    "##### **중간정리**\n",
    "\n",
    "- 공통적으로 이상치 제거함\n",
    "- 추가 분석이 필요한 컬럼들은 시각화 탐색 후 처리 예정\n",
    "- price\n",
    "  - Label 데이터여서 결측치는 그룹별 평균값으로 대체함\n",
    "- bathrooms, bedrooms 15개 이상 제거\n",
    "- beds 이상 제거"
   ]
  },
  {
   "cell_type": "markdown",
   "id": "0fe09a15",
   "metadata": {},
   "source": [
    "---"
   ]
  },
  {
   "cell_type": "markdown",
   "id": "dc891f9b",
   "metadata": {},
   "source": [
    "### 4. 데이터 시각화를 통한 탐색"
   ]
  },
  {
   "cell_type": "markdown",
   "id": "44d6a537",
   "metadata": {},
   "source": [
    "---\n",
    "#### 분석1"
   ]
  },
  {
   "cell_type": "markdown",
   "id": "e30117d3",
   "metadata": {},
   "source": [
    "#### 각 특성 컬럼과 price 컬럼의 상관관계 도출을 위한 시각화"
   ]
  },
  {
   "cell_type": "code",
   "execution_count": null,
   "id": "94db026a",
   "metadata": {},
   "outputs": [],
   "source": [
    "num_cols = [\n",
    "    'accommodates',\n",
    "    'bathrooms',\n",
    "    'bedrooms',\n",
    "    'beds',\n",
    "    'number_of_reviews_ltm',\n",
    "    'review_scores_rating'\n",
    "]\n",
    "\n",
    "cat_cols = [\n",
    "    'neighbourhood_cleansed',\n",
    "    'room_type'\n",
    "]\n",
    "\n",
    "# 수치형: subplot\n",
    "plt.figure(figsize=(20, 20))\n",
    "for i, col in enumerate(num_cols, 1):\n",
    "    plt.subplot(3, 2, i)  # 3행 2열\n",
    "    sns.regplot(data=df_listings, x=col, y='price',\n",
    "                scatter_kws={'alpha':0.5}, line_kws={'color':'red'})\n",
    "    plt.title(f\"{col} vs price\", fontsize=12)\n",
    "    plt.xlabel(col, fontsize=10)\n",
    "    plt.ylabel(\"price\", fontsize=10)\n",
    "plt.tight_layout()\n",
    "plt.show()\n",
    "\n",
    "# 범주형: 개별 큰 그림 + 평균값 표시\n",
    "for col in cat_cols:\n",
    "    plt.figure(figsize=(12, 8))\n",
    "    # 중앙값 기준으 큰 순서대로 범주 정렬\n",
    "    median_order = df_listings.groupby(col)['price'].median().sort_values(ascending=False).index\n",
    "    ax = sns.boxplot(data=df_listings, y=col, x='price', order=median_order)\n",
    "    # 평균값 빨간 점 표시\n",
    "    means = df_listings.groupby(col)['price'].mean()\n",
    "    for i, category in enumerate(median_order):\n",
    "        ax.plot(means[category], i, 'ro')  # 빨간 점 표시\n",
    "    \n",
    "    plt.title(f\"{col} vs price (median sorted + mean)\", fontsize=14)\n",
    "    plt.xlabel(\"price\", fontsize=12)\n",
    "    plt.ylabel(col, fontsize=12)\n",
    "    plt.show()\n"
   ]
  },
  {
   "cell_type": "markdown",
   "id": "3f4fb9fe",
   "metadata": {},
   "source": [
    "- 수치형 컬럼\n",
    "  - 수치형 컬럼의 산점도를 봤을 때는 상관관계를 파악하기 어려우나, 선형회귀선을 보면 선형관계를 도출할 수 있음\n",
    "  - 많은 수용가능인원, 많은 화장실 개수, 많은 침실 개수, 많은 침대 개수, 많은 1년 내의 리뷰 개수, 높은 평점이 높은 가격과 선형관계가 있는 것으로 보아 일반적 통념에 부합\n",
    "   \n",
    "- 범주형 컬럼\n",
    "  - 범주형 컬럼은 범주값이 많아 price를 x축으로 설정 및 수평형 박스플롯을 그린 후, 중위값 상위 순서대로 정렬\n",
    "  - 중위값과 평균값 비교를 위해 평균값도 빨간점으로 표기\n",
    "  - 선호되는 특정 지역의 가격이 높은 것을 확인할 수 있었음\n",
    "  - 단순히 특정 룸만 대여하는 것보다 전체를 대여하는 것이 가격이 높음을 확인할 수 있으며, 룸을 공유하는 것이 가격이 가장 낮은 것으로 보아 일반적 통념에 부합함 "
   ]
  },
  {
   "cell_type": "markdown",
   "id": "47ca12f4",
   "metadata": {},
   "source": [
    "---"
   ]
  },
  {
   "cell_type": "markdown",
   "id": "a4bf6080",
   "metadata": {},
   "source": [
    "#### 분석2"
   ]
  },
  {
   "cell_type": "markdown",
   "id": "38761606",
   "metadata": {},
   "source": [
    "##### 분석2-1 review_scores_~ 칼럼 간 상관관계 분석\n",
    "1. 칼럼명부터 관계가 크게 있어 보여 heatmap으로 상관관계 시각화\n",
    "2. 약 0.5~0.8로 굉장히 높은 양의 상관관계 보임\n",
    "3. 대표값이라 할 수 있는 'review_scores_rating' 칼럼 제외 모두 제거 필요"
   ]
  },
  {
   "cell_type": "code",
   "execution_count": null,
   "id": "3ae54ca7",
   "metadata": {},
   "outputs": [],
   "source": [
    "# review score 칼럼 간의 상관관계 heatmap\n",
    "\n",
    "df_scores = df_listings.filter(like='scores', axis=1)\n",
    "# 평점 관련된 data만 추출\n",
    "\n",
    "df_scores.dropna(inplace=True)\n",
    "# NaN 모두 처리\n",
    "\n",
    "corr = df_scores.corr()\n",
    "# 상관계수 계산\n",
    "\n",
    "# heatmap 시각화\n",
    "plt.figure(figsize=(10, 6))\n",
    "sns.heatmap(corr, annot=True)\n",
    "plt.title('review scores columns corr')\n",
    "plt.show()"
   ]
  },
  {
   "cell_type": "code",
   "execution_count": null,
   "id": "51590a62",
   "metadata": {},
   "outputs": [],
   "source": [
    "# review_scores_rating 제외 평점 관련 칼럼 모두 제거\n",
    "\n",
    "# drop_scores_list = [\n",
    "#     'review_scores_accuracy',\n",
    "#     'review_scores_cleanliness',\n",
    "#     'review_scores_checkin',\n",
    "#     'review_scores_communication',\n",
    "#     'review_scores_location',\n",
    "#     'review_scores_value'\n",
    "# ]\n",
    "# df_listings = df_listings.drop(drop_scores_list, axis=1)"
   ]
  },
  {
   "cell_type": "markdown",
   "id": "800bc840",
   "metadata": {},
   "source": [
    "- review_scores_rating 결측치 처리\n",
    "  - 평점이 없다고 해서 해당 row의 피쳐-숙소값 데이터가 의미없는 것은 아니므로 일단 drop X (상관관계 분석 때만 잠깐 drop)"
   ]
  },
  {
   "cell_type": "markdown",
   "id": "67d56092",
   "metadata": {},
   "source": [
    "##### 분석2-2. bathrooms, bedrooms, beds 이상치 처리 필요\n",
    "\n",
    "최대수용인원1, 침대개수50인 이상치 몇 확인\n",
    "- 처리 방법 1. host_id 조회 및 실제 웹사이트 확인해보니 host가 입력을 잘못한 것. -> 입력을 잘못한 해당 host의 row만 삭제? 기준 애매\n",
    "- 처리 방법 2. (accommodates 기준 인당 사용 가능한 beds가 3개를 초과하는 row는 beds 값을 accommododates * 4 로 임의 조정?) 시도 X"
   ]
  },
  {
   "cell_type": "code",
   "execution_count": null,
   "id": "038e75f2",
   "metadata": {},
   "outputs": [],
   "source": [
    "# 먼저 bedrooms, beds 최댓값에 해당하는 row의 host_id로 accommodates, bathrooms, bedrooms, beds 확인 (대부분 domitory, 공동주택 등의 숙소)\n",
    "\n",
    "df_listings[(df_listings['host_id']==12014384)|(df_listings['host_id']==573624309)].loc[:, ['host_id', 'accommodates', 'bathrooms', 'bedrooms', 'beds']]"
   ]
  },
  {
   "cell_type": "code",
   "execution_count": null,
   "id": "08bda3a1",
   "metadata": {},
   "outputs": [],
   "source": [
    "# 두 호스트의 숙소 인덱스 추출\n",
    "df_listings[(df_listings['host_id']==12014384)|(df_listings['host_id']==573624309)].index"
   ]
  },
  {
   "cell_type": "code",
   "execution_count": null,
   "id": "b60f1ab8",
   "metadata": {},
   "outputs": [],
   "source": [
    "# 이상치 후보 제거\n",
    "df_dummi = df_listings.drop(df_listings[(df_listings['host_id']==12014384)|(df_listings['host_id']==573624309)].index, axis=0)"
   ]
  },
  {
   "cell_type": "code",
   "execution_count": null,
   "id": "557fb0b6",
   "metadata": {},
   "outputs": [],
   "source": [
    "df_dummi.describe()"
   ]
  },
  {
   "cell_type": "markdown",
   "id": "79553880",
   "metadata": {},
   "source": [
    "##### 분석2-3. 위도, 경도 위치별 가격 관찰\n",
    "1. 숙소 위치에 따라 가격도 바뀔 것을 예상\n",
    "2. 위도, 경도별 숙소값 평균으로 heatmap 시각화\n",
    "3. 실제 지도와 비교했을 때 도심 부근이 평균값도 높은 것으로 확인\n",
    "4. 숙소를 예측할 때는 정확한 위도, 경도값을 입력하지 않아서 ML때는 위도, 경도 칼럼보단 neighborhood cleansed 칼럼만 사용하면 될 것 같습니다"
   ]
  },
  {
   "cell_type": "code",
   "execution_count": null,
   "id": "5ca91ae6",
   "metadata": {},
   "outputs": [],
   "source": [
    "# 위도 경도에 따른 가격 변화 시각화\n",
    "# price 이상치는 (2) percent=0.0045로 임시 처리\n",
    "\n",
    "# 위도, 경도, 가격만 사용하므로 새 DataFrame에 저장\n",
    "df_geo = df_listings[['latitude', 'longitude', 'price']]\n",
    "\n",
    "# 위도/경도 범위 자름\n",
    "lat_bins = np.linspace(df_geo.iloc[:, 0].min(), df_geo.iloc[:, 0].max(), 70)\n",
    "lon_bins = np.linspace(df_geo.iloc[:, 1].min(), df_geo.iloc[:, 1].max(), 120)\n",
    "\n",
    "# 각 위도/경도 bin에 매핑\n",
    "df_geo['lat_bin'] = pd.cut(df_geo.iloc[:, 0], bins=lat_bins)\n",
    "df_geo['lon_bin'] = pd.cut(df_geo.iloc[:, 1], bins=lon_bins)\n",
    "\n",
    "# 각 구간마다 평균 가격 계산\n",
    "heatmap_data = (\n",
    "    df_geo.groupby(['lat_bin', 'lon_bin'])['price'].mean().reset_index()\n",
    ")\n",
    "\n",
    "# bin 중앙값을 추출해서 좌표로 사용\n",
    "heatmap_data['lat_center'] = heatmap_data['lat_bin'].apply(lambda x: x.mid)\n",
    "heatmap_data['lon_center'] = heatmap_data['lon_bin'].apply(lambda x: x.mid)\n",
    "\n",
    "# 시각화\n",
    "plt.figure(figsize=(12, 8))\n",
    "scatter = plt.scatter(\n",
    "    heatmap_data['lon_center'],\n",
    "    heatmap_data['lat_center'],\n",
    "    c=heatmap_data['price'],\n",
    "    cmap='inferno_r',\n",
    "    s=30,\n",
    "    edgecolors='black'\n",
    ")\n",
    "plt.colorbar(scatter, label='Average Price')\n",
    "plt.xlabel('Longitude')\n",
    "plt.ylabel('Latitude')\n",
    "# plt.ylim(35.55, 35.8)\n",
    "# plt.xlim(139.65, 139.8)\n",
    "plt.title('Position-Price Heatmap')\n",
    "plt.grid(True)\n",
    "plt.show()"
   ]
  },
  {
   "cell_type": "markdown",
   "id": "ba536cc5",
   "metadata": {},
   "source": [
    "---"
   ]
  },
  {
   "cell_type": "markdown",
   "id": "589d9fdb",
   "metadata": {},
   "source": [
    "#### 분석 3\n",
    "- 세부 주제 : 리뷰 수, 리뷰(처음, 마지막) 날짜 사이의 상관관계 분석 및 해당 특성과 가격의 상관관계 분석. \n",
    "\n",
    "- 과정\n",
    "1. 이후에 데이터 통합과정에서 오류가 생기지 않도록 리뷰 스코어 결측치 행을 드랍했다. \n",
    "2. 오브젝트 형식의 데이터(first_review, last_review)는 이후 사용하기 편하도록 숫자형으로 가공했다.\n",
    "3. 리뷰 관련 데이터와 가격에 대한 상관 계수를 분석하기 위해 상관 계수 히트맵을 그렸다.\n",
    "4. 상관 계수 히트맵을 보면 총 리뷰 수와 작년 1년의 리뷰 수, 12개월 간의 리뷰 수가 강한 상관 관계를 가졌다. \n",
    "5. 하지만 어떠한 종류의 리뷰 수 데이터와 리뷰 날짜 데이터도 가격과 상관 관계를 갖지 않았다.(극히 낮은 상관 계수를 가졌다.) \n",
    "6. 낮은 상관계수의 이유를 분석하기 위해, 혹시 모를 전처리의 부재를 찾아보기 위해, 가격과 리뷰 수 사이의 관계를 산점도로 그렸다.\n",
    "7. 가격(price)의 이상치값이 있어 자의적 판단값(500,000)을 기준으로 그 이상을 제거하고 다시 히트맵을 그렸지만 상관계수의 유의미한 변화는 없었다.\n",
    "8. 리뷰 수의 분포에 편향이 있어 상관계수가 낮게 나오는 것인지 확인하기 위해 분포도를 그렸다.\n",
    "9. 리뷰 수가 앞쪽(낮은 수)에 몰려있고 리뷰 수의 범위가 넓어 로그로 변환하여 히트맵을 그렸다.\n",
    "10. 몰려있는 범위(3사분위수)까지의 가격 평균을 선그래프로 확인했다.\n",
    "11. 등록된 날짜에 영향을 그나마 덜 받을 30일 간의 리뷰 수와 평균 가격의 선 그래프를 확인했다. \n",
    "- 결론 : \n",
    "1. 리뷰 수, 처음과 끝의 리뷰 날짜는 가격과의 선형적 상관관계는 없는 것으로 판단된다. -> 하지만 이것이 학습에 사용되지 못한다는 말로 직결되는 것은 아니다.\n",
    "2. 학습에 사용을 한다면 number_of_reviews(다른 2개와 상관관계가 있으므로 대표적인 하나 특정),\\\n",
    "number_of_reviews_l30d, review_range(연식 간접 정보로 활용)가 의미가 있을 것으로 보인다. "
   ]
  },
  {
   "cell_type": "code",
   "execution_count": null,
   "id": "1a2ab817",
   "metadata": {},
   "outputs": [],
   "source": [
    "# 리뷰 스코어 컬럼에서 결측치가 있는 행 제거\n",
    "df_review3 = df_listings.dropna(subset = ['review_scores_rating'])\n",
    "df_review3.info()"
   ]
  },
  {
   "cell_type": "code",
   "execution_count": null,
   "id": "ffcda090",
   "metadata": {},
   "outputs": [],
   "source": [
    "# 문자열을 datetime형식으로 변환\n",
    "df_review3['first_review'] = pd.to_datetime(df_review3['first_review'])\n",
    "df_review3['last_review']  = pd.to_datetime(df_review3['last_review'])\n",
    "\n",
    "# datetime을 기원 후 몇 번째 날짜인지 숫자로 바꾸기\n",
    "df_review3['first_review_num'] = df_review3['first_review'].map(lambda date: date.toordinal())\n",
    "df_review3['last_review_num']  = df_review3['last_review'].map(lambda date: date.toordinal())\n",
    "\n",
    "# 처음 리뷰부터 지금까지의 기간(review_range) 컬럼을 생성, 간접적인 숙소의 연식 정보\n",
    "\n",
    "today = pd.Timestamp.today().normalize() # 오늘 날짜 기준\n",
    "df_review3['review_range'] = (today - df_review3['first_review']).dt.days\n",
    "\n",
    "# 리뷰 관련 컬럼\n",
    "num_review = [\n",
    "    'number_of_reviews',\n",
    "    'number_of_reviews_ltm',\n",
    "    'number_of_reviews_l30d',\n",
    "    'number_of_reviews_ly',\n",
    "    'first_review_num',\n",
    "    'last_review_num',\n",
    "    'review_range',\n",
    "    'price'\n",
    "]"
   ]
  },
  {
   "cell_type": "code",
   "execution_count": null,
   "id": "e07dec8b",
   "metadata": {},
   "outputs": [],
   "source": [
    "df_review3 = df_review3[df_review3['price'] <= 500_000]\n",
    "df_review3.shape[0]"
   ]
  },
  {
   "cell_type": "markdown",
   "id": "7af0e20d",
   "metadata": {},
   "source": [
    "##### 상관 계수 히트맵"
   ]
  },
  {
   "cell_type": "code",
   "execution_count": null,
   "id": "c4ee96a2",
   "metadata": {},
   "outputs": [],
   "source": [
    "import matplotlib.font_manager as fm\n",
    "import matplotlib\n",
    "\n",
    "font_path = 'C:/Windows/Fonts/gulim.ttc'\n",
    "font = fm.FontProperties(fname = font_path).get_name()\n",
    "matplotlib.rc('font',family = font)"
   ]
  },
  {
   "cell_type": "code",
   "execution_count": null,
   "id": "b37f1780",
   "metadata": {},
   "outputs": [],
   "source": [
    "# 상관계수 히트맵\n",
    "corr = df_review3[num_review].corr()\n",
    "plt.figure(figsize=(8,6))\n",
    "sns.heatmap(corr, annot=True, cmap=\"coolwarm\", fmt=\".2f\")\n",
    "plt.title(\"상관계수 히트맵 : 리뷰 수 컬럼과 가격의 상관 관계 분석\")\n",
    "plt.xticks(rotation=75) \n",
    "plt.show()\n"
   ]
  },
  {
   "cell_type": "markdown",
   "id": "6c25296f",
   "metadata": {},
   "source": [
    "##### 리뷰 관련 정보와 가격의 산점도"
   ]
  },
  {
   "cell_type": "code",
   "execution_count": null,
   "id": "f4c788a2",
   "metadata": {},
   "outputs": [],
   "source": [
    "# 리뷰 관련 정보와 가격의 산점도 \n",
    "fig, ax = plt.subplots(figsize = (16,18), ncols=3, nrows=3)\n",
    "plot_columns =[\n",
    "    'number_of_reviews',\n",
    "    'number_of_reviews_ltm',\n",
    "    'number_of_reviews_l30d',\n",
    "    'number_of_reviews_ly',\n",
    "    'first_review_num',\n",
    "    'last_review_num',\n",
    "    'review_range']\n",
    "\n",
    "for i, col_name in enumerate(plot_columns):\n",
    "    row = i // 3\n",
    "    col = i % 3\n",
    "    ax_temp = ax[row][col]\n",
    "    sns.regplot(data = df_review3, x =col_name, y = 'price', ax = ax_temp, ci = 95)\n"
   ]
  },
  {
   "cell_type": "markdown",
   "id": "25c9fb67",
   "metadata": {},
   "source": [
    "##### 리뷰 관련 정보의 분포 시각화"
   ]
  },
  {
   "cell_type": "code",
   "execution_count": null,
   "id": "e003dd68",
   "metadata": {},
   "outputs": [],
   "source": [
    "# 리뷰 수의 분포를 200개 구간으로 나누어 시각화 \n",
    "fig, ax = plt.subplots(figsize = (16,18), ncols=3, nrows=3)\n",
    "\n",
    "for i, col_name in enumerate(plot_columns):\n",
    "    row = i // 3\n",
    "    col = i % 3\n",
    "    ax[row][col].hist(df_review3[col_name], bins = 200, label='number of reviews')\n"
   ]
  },
  {
   "cell_type": "markdown",
   "id": "73c6e57a",
   "metadata": {},
   "source": [
    "##### 로그 변환 후 히트 맵"
   ]
  },
  {
   "cell_type": "code",
   "execution_count": null,
   "id": "e662994f",
   "metadata": {},
   "outputs": [],
   "source": [
    "# 리뷰 개수 로그 변환 \n",
    "df_review3['log_num_reviews']     = np.log(df_review3['number_of_reviews'])\n",
    "df_review3['log_num_reviews_ltm'] = np.log(df_review3['number_of_reviews_ltm'])\n",
    "df_review3['log_num_reviews_l30d']= np.log(df_review3['number_of_reviews_l30d'])\n",
    "df_review3['log_num_reviews_ly']  = np.log(df_review3['number_of_reviews_ly'])\n",
    "df_review3['first_review_num']  = np.log(df_review3['first_review_num'])\n",
    "df_review3['last_review_num']  = np.log(df_review3['last_review_num'])\n",
    "df_review3['review_range']  = np.log(df_review3['review_range'])\n",
    "\n",
    "\n",
    "\n",
    "df_review3['log_price'] = np.log(df_review3['price'])\n",
    "\n",
    "\n",
    "log_num_review = ['log_num_reviews','log_num_reviews_ltm','log_num_reviews_l30d','log_num_reviews_ly','first_review_num','last_review_num','review_range','log_price','price']\n",
    "\n",
    "# 상관계수 히트맵\n",
    "corr_log = df_review3[log_num_review].corr()\n",
    "plt.figure(figsize=(8,6))\n",
    "sns.heatmap(corr_log, annot=True, cmap=\"coolwarm\", fmt=\".2f\")\n",
    "plt.title(\"상관계수 히트맵 : 로그화된 리뷰 수 컬럼과 가격의 상관 관계 분석\")\n",
    "plt.xticks(rotation=75) \n",
    "plt.show()"
   ]
  },
  {
   "cell_type": "code",
   "execution_count": null,
   "id": "e4ec647e",
   "metadata": {},
   "outputs": [],
   "source": [
    "df_review3['number_of_reviews'].describe()"
   ]
  },
  {
   "cell_type": "markdown",
   "id": "0d5c64ee",
   "metadata": {},
   "source": [
    "##### 3사분위수, 75%까지의 총 리뷰 수에 따른 평균 가격 추이"
   ]
  },
  {
   "cell_type": "code",
   "execution_count": null,
   "id": "f72880f2",
   "metadata": {},
   "outputs": [],
   "source": [
    "# 리뷰 수 52개 이하 숙소의 평균 가격 추이에 대한 선 그래프\n",
    "x = []  # 리뷰 수\n",
    "y = []  # 각 리뷰 수의 평균 가격\n",
    "\n",
    "for i in range(1, 53):\n",
    "    avg_price = df_review3[df_review3['number_of_reviews'] == i]['price'].mean()\n",
    "    x.append(i)\n",
    "    y.append(avg_price)\n",
    "\n",
    "plt.figure(figsize=(12,6))\n",
    "plt.plot(x, y, marker='o')\n",
    "plt.xlabel(\"리뷰 수\")\n",
    "plt.ylabel(\"평균 가격\")\n",
    "plt.title(\"리뷰 52개 이하 숙소의 평균 가격\")\n",
    "plt.grid(True)\n",
    "plt.show()"
   ]
  },
  {
   "cell_type": "code",
   "execution_count": null,
   "id": "97aa319d",
   "metadata": {},
   "outputs": [],
   "source": [
    "df_review3['number_of_reviews_l30d'].describe()"
   ]
  },
  {
   "cell_type": "markdown",
   "id": "75964244",
   "metadata": {},
   "source": [
    "##### 한 달 리뷰 수에 따른 평균 가격 추이"
   ]
  },
  {
   "cell_type": "code",
   "execution_count": null,
   "id": "7a9b7e1b",
   "metadata": {},
   "outputs": [],
   "source": [
    "# 한달 리뷰 수 57개 이하 숙소의 평균 가격 추이에 대한 선 그래프\n",
    "x = []  # 리뷰 수\n",
    "y = []  # 각 리뷰 수의 평균 가격\n",
    "\n",
    "for i in range(1, 57):\n",
    "    avg_price = df_review3[df_review3['number_of_reviews_l30d'] == i]['price'].mean()\n",
    "    x.append(i)\n",
    "    y.append(avg_price)\n",
    "\n",
    "plt.figure(figsize=(12,6))\n",
    "plt.plot(x, y, marker='o')\n",
    "plt.xlabel(\"리뷰 수\")\n",
    "plt.ylabel(\"평균 가격\")\n",
    "plt.title(\"한달 리뷰 57개 이하 숙소의 평균 가격\")\n",
    "plt.grid(True)\n",
    "plt.show()"
   ]
  },
  {
   "cell_type": "markdown",
   "id": "7f5a890a",
   "metadata": {},
   "source": [
    "---\n",
    "#### 분석4"
   ]
  },
  {
   "cell_type": "markdown",
   "id": "2cd5f437",
   "metadata": {},
   "source": [
    "##### amenities - 숙소에 제공되는 편의 시설 목록"
   ]
  },
  {
   "cell_type": "code",
   "execution_count": null,
   "id": "fc8be45d",
   "metadata": {},
   "outputs": [],
   "source": [
    "import ast # 리스트형 문자열 파싱용 라이브러리\n",
    "amenities_ser = df_review3['amenities'].apply(ast.literal_eval)"
   ]
  },
  {
   "cell_type": "code",
   "execution_count": null,
   "id": "e19e6482",
   "metadata": {},
   "outputs": [],
   "source": [
    "# 편의시설 개수 - price의 상관관계\n",
    "\n",
    "df_review3['amenity_count'] = amenities_ser.apply(len)\n",
    "\n",
    "ac_price = df_review3.groupby('amenity_count')['price'].mean().sort_values(ascending=False)\n",
    "\n",
    "plt.figure(figsize=(20,6))\n",
    "# plt.title(title)\n",
    "sns.barplot(\n",
    "    x=ac_price.index,\n",
    "    y=ac_price.values,\n",
    "    hue=ac_price\n",
    ")\n",
    "plt.show()"
   ]
  },
  {
   "cell_type": "code",
   "execution_count": null,
   "id": "8cafeb98",
   "metadata": {},
   "outputs": [],
   "source": [
    "# 편의시설 상세 분석 1 - 전체 갯수\n",
    "\n",
    "# 배열로 되어 있는 모든 리스트 하나로 모음\n",
    "all_amenities = amenities_ser.explode().tolist()\n",
    "\n",
    "# 중복제거용\n",
    "dictinst_amenities = set(all_amenities)\n",
    "\n",
    "# 중복제거 후 갯수\n",
    "print(len(dictinst_amenities))"
   ]
  },
  {
   "cell_type": "code",
   "execution_count": null,
   "id": "cd467a77",
   "metadata": {},
   "outputs": [],
   "source": [
    "# 편의시설 상세 분석, 카테고리화 - 상세 분석 위한 파일로 저장\n",
    "\n",
    "# 인코딩 이슈로 오류 날 수 있음, errors='replace'로 해결\n",
    "f1 = open('./data/amenities.txt','w', encoding=\"utf-8-sig\", errors='replace')\n",
    "\n",
    "for idx,item in enumerate(dictinst_amenities):\n",
    "    print(idx, item)\n",
    "    item = str(item)\n",
    "    f1.write(item+'\\n')\n",
    "\n",
    "f1.close()"
   ]
  },
  {
   "attachments": {
    "image.png": {
     "image/png": "[encoded data removed]"
    }
   },
   "cell_type": "markdown",
   "id": "1c6b94c3",
   "metadata": {},
   "source": [
    "파일 다운로드 후 아래 스크린샷 처럼 겹치는 것들을 발견 카테고리화 가능 확인\n",
    "\n",
    "![image.png](attachment:image.png)"
   ]
  },
  {
   "cell_type": "code",
   "execution_count": null,
   "id": "04809dd0",
   "metadata": {},
   "outputs": [],
   "source": [
    "# 카테고리화 분류\n",
    "\n",
    "amenity_keywords = {\n",
    "    \"TV/디스플레이\": [\"hdtv\", \"tv\", \"chromecast\", \"fire tv\", \"apple tv\", \"netflix\", \"hulu\", \"dvd player\", \"amazon prime video\",\"standard cable\", \"premium cable\", \"roku\"],\n",
    "    \"사운드\": [\"sound system\", \"speaker\"],\n",
    "    \"냉장고/오븐/가전\": [\"refrigerator\", \"oven\", \"microwave\", \"stainless steel\", \"induction stove\", \"gas stove\", \"electric stove\", \"single oven\", \"double oven\", \"ih\", \"freezer\"],\n",
    "    \"샴푸/린스/바디워시\": [\"shampoo\", \"conditioner\", \"body soap\", \"トリートメント\", \"リンス\", \"ボディソープ\", \"コンディショナー\", \"treatment\", \"body wash\", \"hair oil\", \"洗手液\", \"せっけん\", \"洗发水\", \"リンスインシャンプー\"],\n",
    "    \"와이파이/인터넷\": [\"wifi\", \"ethernet\", \"pocket wifi\", \"lan connection\"],\n",
    "    \"주차\": [\"parking\", \"garage\", \"driveway\", \"carport\", \"parking lot\", \"parking garage\", \"street parking\"],\n",
    "    \"운동/헬스\": [\"exercise equipment\", \"gym\", \"yoga mat\", \"shared gym\", \"stationary bike\", \"workout bench\", \"rowing\", \"treadmill\", \"elliptical\", \"climbing wall\", \"batting cage\", \"pool\", \"sauna\", \"private gym\"],\n",
    "    \"어린이/유아\": [\"high chair\", \"crib\", \"children’s books\", \"children's playroom\", \"baby bath\", \"changing table\", \"table corner guards\", \"pack ’n play\", \"travel crib\", \"booster seat\", \"baby monitor\", \"safety gates\", \"children’s bikes\", \"children’s dinnerware\"],\n",
    "    \"주방/조리도구\": [\"coffee\", \"coffee maker\", \"toaster\", \"blender\", \"rice maker\", \"dishwasher\", \"keurig\", \"nespresso\", \"bbq grill\", \"barbecue utensils\", \"kitchen\", \"kitchenette\", \"cooking basics\", \"microwave\", \"oven\", \"stove\", \"hot water kettle\", \"bread maker\", \"dishes\", \"silverware\", \"baking\", \"dining table\", \"wine glass\"],\n",
    "    \"사우나/스파/욕조\": [\"hot tub\", \"private sauna\", \"bathtub\", \"shared hot tub\", \"spa\", \"sauna\", \"shared sauna\", \"bidet\", \"shower gel\", \"hot water\"],\n",
    "    \"뷰/전망\": [\"view\", \"courtyard view\", \"garden view\", \"city skyline view\", \"mountain view\", \"sea view\", \"lake view\", \"resort view\", \"bay view\", \"park view\", \"canal view\", \"river view\", \"ocean view\", \"harbor view\", \"valley view\", \"golf course view\", \"marina view\", \"waterfront\", \"resort access\", \"beach view\", \"beach access\", \"lake access\"],\n",
    "    \"보안/안전\": [\"smoke alarm\", \"fire extinguisher\", \"first aid kit\", \"security camera\", \"window guards\", \"smart lock\", \"keypad\", \"lockbox\", \"carbon monoxide alarm\", \"noise decibel monitors\", \"lock on bedroom door\", \"outlet covers\", \"fireplace guards\", \"safe\"],\n",
    "    \"난방/냉방\": [\"air conditioning\", \"central heating\", \"portable heater\", \"ceiling fan\", \"heating\", \"fan\", \"window ac\", \"radiant heating\", \"split type\", \"portable air conditioning\", \"indoor fireplace\"],\n",
    "    \"세탁/건조\": [\"washer\", \"dryer\", \"laundromat\", \"laundry\", \"free washer\", \"paid washer\", \"free dryer\", \"paid dryer\", \"drying rack\"],\n",
    "    \"반려동물\": [\"pets allowed\"],\n",
    "    \"게임/오락\": [\"game\", \"arcade\", \"console\", \"board game\", \"ping pong\", \"bowling\", \"mini golf\", \"life size game\"],\n",
    "    \"야외/정원\": [\"backyard\", \"outdoor\", \"patio\", \"balcony\", \"hammock\", \"sun lounger\", \"fire pit\", \"fenced\", \"private entrance\", \"private living room\", \"shared backyard\", \"shared beach access\", \"outdoor shower\", \"outdoor furniture\", \"outdoor playground\", \"sun loungers\"],\n",
    "    \"의류/수납\": [\"clothing storage\", \"closet\", \"dresser\", \"wardrobe\", \"hanger\"],\n",
    "    \"스포츠/레저\": [\"bike\", \"kayak\", \"hockey\", \"piano\", \"skate ramp\", \"boat slip\"],\n",
    "    \"도서/문화\": [\"book\", \"reading\", \"record player\", \"movie theater\", \"theme room\"],\n",
    "    \"기타\": [\n",
    "        \"Bed linens\", \"ev charger\", \"elevator\", \"iron\", \"mosquito\", \"mini fridge\",\n",
    "        \"room-darkening\", \"single level\", \"smoking\", \"trash compactor\", \"breakfast\",\n",
    "        \"private patio\", \"private backyard\", \"private backyard – fully fenced\",\n",
    "        \"private backyard – not fully fenced\", \"private patio or balcony\",\n",
    "        \"shared patio or balcony\", \"shared backyard – fully fenced\",\n",
    "        \"shared backyard – not fully fenced\", \"babysitter recommendations\",\n",
    "        \"extra pillows and blankets\", \"long term stays allowed\", \"mosquito net\",\n",
    "        \"outdoor dining area\", \"patio or balcony\", \"private entrance\",\n",
    "        \"private living room\", \"room-darkening shades\", \"self check-in\",\n",
    "        \"shared backyard\", \"shared backyard – fully fenced\",\n",
    "        \"shared backyard – not fully fenced\", \"shared beach access\",\n",
    "        \"shared beach access – beachfront\", \"shared patio or balcony\",\n",
    "        \"single level home\", \"smoking allowed\", \"housekeeping\", \"building staff\",\n",
    "        \"host greets you\", \"cleaning available\", \"essentials\", \"luggage dropoff\",\n",
    "        \"cleaning products\", \"dinnerware\", \"babysitter\", \"extra pillow\",\n",
    "        \"blanket\", \"long term\"\n",
    "    ]\n",
    "}"
   ]
  },
  {
   "cell_type": "code",
   "execution_count": null,
   "id": "a62cd343",
   "metadata": {},
   "outputs": [],
   "source": [
    "amenities_ser2 = amenities_ser.copy()\n",
    "\n",
    "\n",
    "def classify_amenities(amenities_list):\n",
    "    new_list = []\n",
    "\n",
    "    # Series 객체의 반복 가능 값 반복\n",
    "    for amnt in amenities_list:\n",
    "\n",
    "        for key,value in amenity_keywords.items():\n",
    "            for key_word in value:\n",
    "                if key_word.lower() in amnt.lower():\n",
    "                    new_list.append(key)\n",
    "                    is_changed = True\n",
    "                    break\n",
    "        \n",
    "        if not is_changed:\n",
    "            new_list.append('기타')\n",
    "        \n",
    "    return list(set(new_list))\n",
    "\n",
    "\n",
    "amenities_ser2 = amenities_ser2.apply(classify_amenities)\n",
    "\n",
    "amenities_ser2"
   ]
  },
  {
   "cell_type": "markdown",
   "id": "de37abb5",
   "metadata": {},
   "source": [
    "amenities 컬럼 카데고리로 분류 가능함을 알게됨 회의를 통해 상세 규칙 설정 필요"
   ]
  },
  {
   "cell_type": "markdown",
   "id": "573729a2",
   "metadata": {},
   "source": [
    "---\n",
    "**중간정리**\n",
    "- 'review_scores_rating' 칼럼 제외 review_scores 관련 컬럼 모두 제거 필요\n",
    "- 'latitude', 'longitude' 위도, 경도 컬럼은 'neighbourhood_cleansed'로도 충분히 대체 가능\n",
    "- 'number_of_reviews', 'number_of_reviews_l30d', 'review_range' 의미가 있을 것으로 보임\n",
    "- amenities 컬럼 카데고리로 분류 가능함을 알게됨 회의를 통해 상세 규칙 설정 필요"
   ]
  },
  {
   "cell_type": "markdown",
   "id": "7c5765a5",
   "metadata": {},
   "source": [
    "---"
   ]
  },
  {
   "cell_type": "markdown",
   "id": "e58cd2e7",
   "metadata": {},
   "source": [
    "### 5. 데이터 정제 및 전처리"
   ]
  },
  {
   "cell_type": "code",
   "execution_count": null,
   "id": "0b82452f",
   "metadata": {},
   "outputs": [],
   "source": [
    "# review_scores_rating 제외 평점 관련 칼럼 모두 제거\n",
    "\n",
    "drop_scores_list = [\n",
    "    'review_scores_accuracy',\n",
    "    'review_scores_cleanliness',\n",
    "    'review_scores_checkin',\n",
    "    'review_scores_communication',\n",
    "    'review_scores_location',\n",
    "    'review_scores_value'\n",
    "]\n",
    "df_listings = df_listings.drop(drop_scores_list, axis=1)"
   ]
  },
  {
   "cell_type": "code",
   "execution_count": null,
   "id": "4eb89cd0",
   "metadata": {},
   "outputs": [],
   "source": [
    "# 'latitude' 위도, 'longitude' 경도 컬럼은 제거\n",
    "drop_list = ['longitude', 'latitude']\n",
    "\n",
    "df_listings = df_listings.drop(drop_list, axis=1)"
   ]
  },
  {
   "cell_type": "code",
   "execution_count": null,
   "id": "dc5d2750",
   "metadata": {},
   "outputs": [],
   "source": [
    "df_listings.columns"
   ]
  },
  {
   "cell_type": "code",
   "execution_count": null,
   "id": "d2b77a11",
   "metadata": {},
   "outputs": [],
   "source": [
    "df_listings.to_csv('./data/listings.csv')"
   ]
  }
 ],
 "metadata": {
  "kernelspec": {
   "display_name": "ml_env",
   "language": "python",
   "name": "python3"
  },
  "language_info": {
   "codemirror_mode": {
    "name": "ipython",
    "version": 3
   },
   "file_extension": ".py",
   "mimetype": "text/x-python",
   "name": "python",
   "nbconvert_exporter": "python",
   "pygments_lexer": "ipython3",
   "version": "3.12.11"
  }
 },
 "nbformat": 4,
 "nbformat_minor": 5
}
