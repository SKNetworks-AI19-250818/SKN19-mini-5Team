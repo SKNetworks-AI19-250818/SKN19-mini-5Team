{
 "cells": [
  {
   "cell_type": "code",
   "execution_count": null,
   "id": "52a2fbea",
   "metadata": {},
   "outputs": [],
   "source": [
    "import numpy as np\n",
    "import pandas as pd\n",
    "import matplotlib.pyplot as plt\n",
    "import seaborn as sns\n",
    "import warnings\n",
    "warnings.filterwarnings('ignore')"
   ]
  },
  {
   "cell_type": "markdown",
   "id": "065c1385",
   "metadata": {},
   "source": [
    "### # 특이사항 메모\n",
    "\n",
    "markdown 구조\n",
    "- 1. 데이터 로드 (발표물_샘플과 동일)\n",
    "- 2. 데이터 구조 및 기초 통계 확인 (발표물_샘플과 동일)\n",
    "- 3. 결측치 및 이상치 탐색 (발표물_샘플과 동일)\n",
    "- review_scores_~ 칼럼 간 상관관계 분석\n",
    "- review_scores_rating 결측치 처리 (코드셀x)\n",
    "- bathrooms, bedrooms, beds 이상치 처리\n",
    "- 가격 이상치 (임시) 처리\n",
    "- 위도, 경도별 가격 관찰\n"
   ]
  },
  {
   "cell_type": "markdown",
   "id": "8be0cfa7",
   "metadata": {},
   "source": [
    "---"
   ]
  },
  {
   "cell_type": "markdown",
   "id": "4754f3b9",
   "metadata": {},
   "source": [
    "### 주제2 - 숙소의 여러 조건에 따른 숙소 가격 예측"
   ]
  },
  {
   "cell_type": "markdown",
   "id": "93ef50e2",
   "metadata": {},
   "source": [
    "##### # 1. 데이터 로드"
   ]
  },
  {
   "cell_type": "code",
   "execution_count": null,
   "id": "6050938b",
   "metadata": {},
   "outputs": [],
   "source": [
    "\n",
    "df = pd.read_csv('./data/listings.csv.gz', compression='gzip')"
   ]
  },
  {
   "cell_type": "code",
   "execution_count": null,
   "id": "749a638c",
   "metadata": {},
   "outputs": [],
   "source": [
    "# 'price_float' 컬럼에서 '$'와 ',' 제거\n",
    "df['price'] = df['price'].str.replace('$', '', regex=False).str.replace(',', '', regex=False)\n",
    "\n",
    "# 컬럼 타입 변경\n",
    "df['price'] = df['price'].astype(float)"
   ]
  },
  {
   "cell_type": "markdown",
   "id": "1963ba6a",
   "metadata": {},
   "source": [
    "##### # 2. 데이터 구조 및 기초 통계 확인"
   ]
  },
  {
   "cell_type": "code",
   "execution_count": null,
   "id": "4b9b1f61",
   "metadata": {},
   "outputs": [],
   "source": [
    "# 전체 컬럼 리스트\n",
    "# 회의롤 통해 1차적으로 필요/불필요 컬럼을 구별\n",
    "# 주석처리 = 필요한 컬럼\n",
    "\n",
    "drop_list = [\n",
    "'id',\t                                        # 각 숙소의 고유 식별자.\n",
    "'listing_url',\t                                # 숙소의 웹페이지 URL.\n",
    "'scrape_id',\t                                # 데이터 스크래핑 작업의 고유 식별자.\n",
    "'last_scraped',\t                                # 숙소 정보가 마지막으로 스크래핑된 날짜.\n",
    "'source',\t                                    # 숙소 정보의 출처.\n",
    "'name',\t                                        # 숙소의 이름.\n",
    "'description',\t                                # 숙소에 대한 상세 설명.\n",
    "'neighborhood_overview',\t                    # 숙소 주변 지역에 대한 설명.\n",
    "'picture_url',\t                                # 숙소 대표 사진의 URL.\n",
    "'host_id',\t                                    # 호스트의 고유 식별자.\n",
    "'host_url',\t                                    # 호스트의 웹페이지 URL.\n",
    "'host_name',\t                                # 호스트의 이름.\n",
    "'host_since',\t                                # 호스트가 에어비앤비에 가입한 날짜.\n",
    "'host_location',\t                            # 호스트의 위치.\n",
    "'host_about',\t                                # 호스트에 대한 자기소개.\n",
    "'host_response_time',\t                        # 호스트의 평균 응답 시간.\n",
    "'host_response_rate',\t                        # 호스트의 응답률.\n",
    "'host_acceptance_rate',\t                        # 호스트의 예약 수락률.\n",
    "'host_is_superhost',\t                        # 호스트가 슈퍼호스트인지 여부.\n",
    "'host_thumbnail_url',\t                        # 호스트 프로필 썸네일 이미지의 URL.\n",
    "'host_picture_url',\t                            # 호스트 프로필 사진의 URL.\n",
    "'host_neighbourhood',\t                        # 호스트가 거주하는 지역.\n",
    "'host_listings_count',\t                        # 해당 호스트가 보유한 전체 숙소 수.\n",
    "'host_total_listings_count',\t                # 해당 호스트가 소유하거나 관리하는 전체 숙소 수.\n",
    "'host_verifications',\t                        # 호스트의 인증 정보 목록.\n",
    "'host_has_profile_pic',\t                        # 호스트가 프로필 사진을 가지고 있는지 여부.\n",
    "'host_identity_verified',\t                    # 호스트 신원이 인증되었는지 여부.\n",
    "'neighbourhood',\t                            # 숙소가 위치한 지역의 이름.\n",
    "\n",
    "# 'neighbourhood_cleansed',\t                    # 정제된 숙소 지역 이름.\n",
    "\n",
    "'neighbourhood_group_cleansed',\t                # 정제된 숙소 지역 그룹 이름.\n",
    "\n",
    "# 'latitude',\t                                    # 숙소의 위도.\n",
    "# 'longitude',\t                                # 숙소의 경도.\n",
    "# 'property_type',\t                            # 숙소의 종류.\n",
    "# 'room_type',\t                                # 숙소의 방 유형.\n",
    "# 'accommodates',\t                                # 숙소가 수용 가능한 최대 인원 수.\n",
    "# 'bathrooms',\t                                # 숙소의 욕실 개수.\n",
    "\n",
    "'bathrooms_text',\t                            # 숙소의 욕실 개수를 설명하는 텍스트.\n",
    "\n",
    "# 'bedrooms',\t                                    # 숙소의 침실 개수.\n",
    "# 'beds',\t                                        # 숙소의 침대 개수.\n",
    "# 'amenities',\t                                # 숙소에 제공되는 편의 시설 목록.\n",
    "# 'price',\t                                    # 숙소의 1박당 가격.\n",
    "\n",
    "'minimum_nights',\t                            # 최소 숙박 가능 일수.\n",
    "'maximum_nights',\t                            # 최대 숙박 가능 일수.\n",
    "'minimum_minimum_nights',\t                    # 호스트가 설정한 최소 숙박 일수 중 가장 낮은 값.\n",
    "'maximum_minimum_nights',\t                    # 호스트가 설정한 최소 숙박 일수 중 가장 높은 값.\n",
    "'minimum_maximum_nights',\t                    # 호스트가 설정한 최대 숙박 일수 중 가장 낮은 값.\n",
    "'maximum_maximum_nights',\t                    # 호스트가 설정한 최대 숙박 일수 중 가장 높은 값.\n",
    "'minimum_nights_avg_ntm',\t                    # 최소 숙박 일수의 평균값.\n",
    "'maximum_nights_avg_ntm',\t                    # 최대 숙박 일수의 평균값.\n",
    "'calendar_updated',\t                            # 달력이 마지막으로 업데이트된 시점.\n",
    "'has_availability',\t                            # 숙소 예약 가능 여부.\n",
    "'availability_30',\t                            # 향후 30일 동안의 숙소 예약 가능 일수.\n",
    "'availability_60',\t                            # 향후 60일 동안의 숙소 예약 가능 일수.\n",
    "'availability_90',\t                            # 향후 90일 동안의 숙소 예약 가능 일수.\n",
    "'availability_365',\t                            # 향후 365일 동안의 숙소 예약 가능 일수.\n",
    "'calendar_last_scraped',\t                    # 달력 정보가 마지막으로 스크래핑된 날짜.\n",
    "\n",
    "# 'number_of_reviews',\t                        # 총 리뷰 개수.\n",
    "# 'number_of_reviews_ltm',\t                    # 지난 12개월 동안의 리뷰 개수.\n",
    "# 'number_of_reviews_l30d',\t                    # 지난 30일 동안의 리뷰 개수.\n",
    "\n",
    "'availability_eoy',\t                            # 연말까지의 예약 가능 일수.\n",
    "\n",
    "# 'number_of_reviews_ly',\t                        # 지난 1년 동안의 리뷰 개수.\n",
    "\n",
    "'estimated_occupancy_l365d',\t                # 지난 365일 동안의 예상 점유율.\n",
    "'estimated_revenue_l365d',\t                    # 지난 365일 동안의 예상 수입.\n",
    "\n",
    "# 'first_review',\t                                # 첫 번째 리뷰가 작성된 날짜.\n",
    "# 'last_review',\t                                # 마지막 리뷰가 작성된 날짜.\n",
    "# 'review_scores_rating',\t                        # 총 리뷰 점수(별점)의 평균값.\n",
    "# 'review_scores_accuracy',\t                    # 정확도 리뷰 점수.\n",
    "# 'review_scores_cleanliness',\t                # 청결도 리뷰 점수.\n",
    "# 'review_scores_checkin',\t                    # 체크인 경험 리뷰 점수.\n",
    "# 'review_scores_communication',\t                # 소통 리뷰 점수.\n",
    "# 'review_scores_location',\t                    # 위치 리뷰 점수.\n",
    "# 'review_scores_value',\t                        # 가격 대비 가치 리뷰 점수.\n",
    "\n",
    "'license',\t                                    # 숙소의 라이선스 정보.\n",
    "'instant_bookable',\t                            # 즉시 예약이 가능한 숙소인지 여부.\n",
    "'calculated_host_listings_count',\t            # 호스트가 등록한 숙소 개수.\n",
    "'calculated_host_listings_count_entire_homes',\t# 호스트가 등록한 '전체 숙소/아파트' 유형의 개수.\n",
    "'calculated_host_listings_count_private_rooms',\t# 호스트가 등록한 '개인실' 유형의 개수.\n",
    "'calculated_host_listings_count_shared_rooms',\t# 호스트가 등록한 '공용 공간' 유형의 개수.\n",
    "'reviews_per_month'\t                            # 월별 평균 리뷰 개수.\n",
    "]\n",
    "\n",
    "# 불필요 컬럼 드롭 처리\n",
    "df_listings = df.drop(drop_list, axis=1)\n",
    "\n"
   ]
  },
  {
   "cell_type": "code",
   "execution_count": null,
   "id": "5c490598",
   "metadata": {},
   "outputs": [],
   "source": [
    "df_listings.info()"
   ]
  },
  {
   "cell_type": "markdown",
   "id": "5ad80b26",
   "metadata": {},
   "source": [
    "### # 3. 결측치 및 이상치 탐색"
   ]
  },
  {
   "cell_type": "code",
   "execution_count": null,
   "id": "33ad1f62",
   "metadata": {},
   "outputs": [],
   "source": [
    "df_listings.isna().sum()\n",
    "\n",
    "#\n",
    "# bathrooms                      2044     👈 결측치 있음\n",
    "# bedrooms                        257     👈 결측치 있음\n",
    "# beds                           2042     👈 결측치 있음\n",
    "\n",
    "# price                          2037     👈 결측치 있음\n",
    "\n",
    "# first_review                   3573     👈 결측치 있음\n",
    "# last_review                    3573     👈 결측치 있음\n",
    "# review_scores_rating           3573     👈 결측치 있음\n",
    "#"
   ]
  },
  {
   "cell_type": "code",
   "execution_count": null,
   "id": "c6a5b857",
   "metadata": {},
   "outputs": [],
   "source": [
    "# 추적용 price_text 컬럼 생성\n",
    "df_listings['price_text'] = df_listings['price']\n",
    "\n",
    "# 'price_float' 컬럼에서 '$'와 ',' 제거\n",
    "df_listings['price'] = df_listings['price'].str.replace('$', '', regex=False).str.replace(',', '', regex=False)\n",
    "\n",
    "# 컬럼 타입 변경\n",
    "df_listings['price'] = df_listings['price'].astype(float)"
   ]
  },
  {
   "cell_type": "code",
   "execution_count": null,
   "id": "b154234f",
   "metadata": {},
   "outputs": [],
   "source": [
    "# price 결측치 처리를 위한 결측치가 없는 범례형\n",
    "\n",
    "def show_plt(x, y, hue, title):\n",
    "    plt.figure(figsize=(8,6))\n",
    "    plt.title(title)\n",
    "    sns.barplot(\n",
    "        x=x,\n",
    "        y=y,\n",
    "        hue=hue\n",
    "    )\n",
    "\n",
    "rt_price = df_listings.groupby('room_type')['price'].mean().sort_values(ascending=False)\n",
    "pt_price = df_listings.groupby('property_type')['price'].mean().sort_values(ascending=False)\n",
    "acc_price = df_listings.groupby('accommodates')['price'].mean().sort_values(ascending=False)\n",
    "nc_price = df_listings.groupby('neighbourhood_cleansed')['price'].mean().sort_values(ascending=False)\n",
    "\n",
    "# rt_price.index\n",
    "\n",
    "show_plt(rt_price, rt_price.index, rt_price.index, 'room_type')\n",
    "show_plt(pt_price, pt_price.index, pt_price.index, 'property_type')\n",
    "show_plt(acc_price.index, acc_price, acc_price.index, 'accommodates')\n",
    "show_plt(nc_price, nc_price.index, nc_price.index, 'neighbourhood_cleansed')"
   ]
  },
  {
   "cell_type": "code",
   "execution_count": null,
   "id": "e52be8f1",
   "metadata": {},
   "outputs": [],
   "source": [
    "# isna_cnt1 = df_listings['price'].isna().sum()\n",
    "# print('결측치',isna_cnt1, '개 ')\n",
    "\n",
    "groupby_columns = [\n",
    "    ['room_type', 'property_type', 'accommodates', 'neighbourhood_cleansed'],\n",
    "    ['room_type', 'property_type', 'accommodates'],\n",
    "    ['room_type', 'accommodates'],\n",
    "    ['room_type', 'property_type']\n",
    "]\n",
    "\n",
    "def fillna_groupby_mean_price(groupby_columns):\n",
    "\n",
    "    def get_na_cnt():\n",
    "        return df_listings['price'].isna().sum()\n",
    "\n",
    "    print('최초 결측치', get_na_cnt(), '개 ')\n",
    "\n",
    "    for gc in  groupby_columns:\n",
    "        df_listings['price'] = df_listings['price'].fillna(\n",
    "            df_listings.groupby(gc)['price'].transform('mean')\n",
    "        )\n",
    "        print('처리 후 결측치', get_na_cnt(), '개 ')\n",
    "\n",
    "\n",
    "fillna_groupby_mean_price(groupby_columns)"
   ]
  },
  {
   "cell_type": "code",
   "execution_count": null,
   "id": "7b14e23d",
   "metadata": {},
   "outputs": [],
   "source": [
    "# 결측치 행 제거\n",
    "\n",
    "_=\"\"\"\n",
    "아래 컬럼들의 결측치에 대해서 무조건적인 드롭을 하려 했으나\n",
    "\"정말 화장실, 침실이 없는 경우는 어떻게 하지?\" 라는 생각이 들었음\n",
    "일단 공동 작업을 위해 드롭은 하나. ML에서 평가가 낮게 나올경우 재고 하기로 함\n",
    "\n",
    "\n",
    "bathrooms                      2044     👈 결측치 있음\n",
    "bedrooms                        257     👈 결측치 있음\n",
    "beds                           2042     👈 결측치 있음\n",
    "\"\"\"\n",
    "\n",
    "# bathrooms 결측치 있는 행 제거\n",
    "df_listings = df_listings.dropna(subset=['bathrooms'])\n",
    "\n",
    "# bedrooms 결측치 있는 행 제거\n",
    "df_listings = df_listings.dropna(subset=['bedrooms'])\n",
    "\n",
    "# beds 결측치 있는 행 제거\n",
    "df_listings = df_listings.dropna(subset=['beds'])\n",
    "\n",
    "\n",
    "df_listings.isna().sum()"
   ]
  },
  {
   "cell_type": "markdown",
   "id": "16501eec",
   "metadata": {},
   "source": [
    "### review_scores_~ 칼럼 간 상관관계 분석\n",
    "\n",
    "1. 칼럼명부터 관계가 크게 있어 보여 heatmap으로 상관관계 시각화\n",
    "2. 약 0.5~0.8로 굉장히 높은 양의 상관관계 보임\n",
    "3. 대표값이라 할 수 있는 'review_scores_rating' 칼럼 제외 모두 제거"
   ]
  },
  {
   "cell_type": "code",
   "execution_count": null,
   "id": "e69ba930",
   "metadata": {},
   "outputs": [],
   "source": [
    "# review score 칼럼 간의 상관관계 heatmap\n",
    "\n",
    "df_scores = df_listings.filter(like='scores', axis=1)\n",
    "# 평점 관련된 data만 추출\n",
    "\n",
    "df_scores.dropna(inplace=True)\n",
    "# NaN 모두 처리\n",
    "\n",
    "corr = df_scores.corr()\n",
    "# 상관계수 계산\n",
    "\n",
    "# heatmap 시각화\n",
    "plt.figure(figsize=(10, 6))\n",
    "sns.heatmap(corr, annot=True)\n",
    "plt.title('review scores columns corr')\n",
    "plt.show()"
   ]
  },
  {
   "cell_type": "code",
   "execution_count": null,
   "id": "d4416e83",
   "metadata": {},
   "outputs": [],
   "source": [
    "# review_scores_rating 제외 평점 관련 칼럼 모두 제거\n",
    "\n",
    "drop_scores_list = [\n",
    "    'review_scores_accuracy',\n",
    "    'review_scores_cleanliness',\n",
    "    'review_scores_checkin',\n",
    "    'review_scores_communication',\n",
    "    'review_scores_location',\n",
    "    'review_scores_value'\n",
    "]\n",
    "df_listings = df_listings.drop(drop_scores_list, axis=1)"
   ]
  },
  {
   "cell_type": "markdown",
   "id": "b41f343e",
   "metadata": {},
   "source": [
    "### review_scores_rating 결측치 처리\n",
    "\n",
    "- 평점이 없다고 해서 해당 row의 피쳐-숙소값 데이터가 의미없는 것은 아니므로 일단 drop X (상관관계 분석 때만 잠깐 drop)"
   ]
  },
  {
   "cell_type": "markdown",
   "id": "c7813562",
   "metadata": {},
   "source": [
    "### bathrooms, bedrooms, beds 이상치 처리\n",
    "\n",
    "최대수용인원1, 침대개수50인 이상치 몇 확인\n",
    "- 처리 방법 1. host_id 조회 및 실제 웹사이트 확인해보니 host가 입력을 잘못한 것. -> 입력을 잘못한 해당 host의 row만 삭제? 기준 애매\n",
    "- 처리 방법 2. (accommodates 기준 인당 사용 가능한 beds가 3개를 초과하는 row는 beds 값을 accommododates * 4 로 임의 조정?) 시도 X"
   ]
  },
  {
   "cell_type": "code",
   "execution_count": null,
   "id": "7e49cb12",
   "metadata": {},
   "outputs": [],
   "source": [
    "# 먼저 bedrooms, beds 최댓값에 해당하는 row의 host_id로 accommodates, bathrooms, bedrooms, beds 확인 (대부분 domitory, 공동주택 등의 숙소)\n",
    "\n",
    "df[(df['host_id']==12014384)|(df['host_id']==573624309)].loc[:, ['host_id', 'accommodates', 'bathrooms', 'bedrooms', 'beds']]"
   ]
  },
  {
   "cell_type": "code",
   "execution_count": null,
   "id": "bdd6f4e9",
   "metadata": {},
   "outputs": [],
   "source": [
    "# 두 호스트의 숙소 인덱스 추출\n",
    "df[(df['host_id']==12014384)|(df['host_id']==573624309)].index"
   ]
  },
  {
   "cell_type": "code",
   "execution_count": null,
   "id": "4752819b",
   "metadata": {},
   "outputs": [],
   "source": [
    "# 이상치 후보 제거\n",
    "df_dummi = df_listings.drop(df[(df['host_id']==12014384)|(df['host_id']==573624309)].index, axis=0)"
   ]
  },
  {
   "cell_type": "code",
   "execution_count": null,
   "id": "4aec8420",
   "metadata": {},
   "outputs": [],
   "source": [
    "df_dummi.describe()"
   ]
  },
  {
   "cell_type": "markdown",
   "id": "97f81531",
   "metadata": {},
   "source": [
    "### 가격 이상치 (임시) 처리\n",
    "\n",
    "- 처리 방법 1. 인당 1박 숙박비가 200만원 이상인 숙소 제거(숙소값 예측을 필요로 하는 대상을 평범한 여행객으로 가정)\n",
    "- 처리 방법 2. 상위 0.0045 row만 제거"
   ]
  },
  {
   "cell_type": "code",
   "execution_count": null,
   "id": "fd7b78e5",
   "metadata": {},
   "outputs": [],
   "source": [
    "# 1. accommodates 기준으로 1인당 가격이 20만엔 이상인 row 조회(57개) -> 해당 row 제거\n",
    "price_drop_index = df_listings[(df_listings['price']/df_listings['accommodates'])>=200000]['price'].index\n",
    "df_filtered = df_listings.drop(price_drop_index, axis = 0)\n",
    "df_filtered['price'].describe()\n",
    "\n",
    "# 단점: max값이 999,999엔인 row 존재"
   ]
  },
  {
   "cell_type": "code",
   "execution_count": null,
   "id": "a28d12a5",
   "metadata": {},
   "outputs": [],
   "source": [
    "# 2. 상위 0.0045인 row만 제거\n",
    "\n",
    "price_percent = df_listings['price'].quantile(0.9955)\n",
    "df_filtered = df_listings[df_listings['price'] <= price_percent]\n",
    "df_filtered.describe()\n",
    "\n",
    "# 단점: 퍼센트 설정 기준 애매"
   ]
  },
  {
   "cell_type": "markdown",
   "id": "47c50219",
   "metadata": {},
   "source": [
    "### 위도, 경도 위치별 가격 관찰\n",
    "1. 숙소 위치에 따라 가격도 바뀔 것을 예상\n",
    "2. 위도, 경도별 숙소값 평균으로 heatmap 시각화\n",
    "3. 실제 지도와 비교했을 때 도심 부근이 평균값도 높은 것으로 확인\n",
    "4. 숙소를 예측할 때는 정확한 위도, 경도값을 입력하지 않아서 ML때는 위도, 경도 칼럼보단 neighborhood cleansed 칼럼만 사용하면 될 것 같습니다"
   ]
  },
  {
   "cell_type": "code",
   "execution_count": null,
   "id": "e4e5d1b7",
   "metadata": {},
   "outputs": [],
   "source": [
    "# 위도 경도에 따른 가격 변화 시각화\n",
    "# price 이상치는 (2) percent=0.0045로 임시 처리\n",
    "\n",
    "# 위도, 경도, 가격만 사용하므로 새 DataFrame에 저장\n",
    "df_geo = df_filtered[['latitude', 'longitude', 'price']]\n",
    "\n",
    "# 위도/경도 범위 자름\n",
    "lat_bins = np.linspace(df_geo.iloc[:, 0].min(), df_geo.iloc[:, 0].max(), 70)\n",
    "lon_bins = np.linspace(df_geo.iloc[:, 1].min(), df_geo.iloc[:, 1].max(), 120)\n",
    "\n",
    "# 각 위도/경도 bin에 매핑\n",
    "df_geo['lat_bin'] = pd.cut(df_geo.iloc[:, 0], bins=lat_bins)\n",
    "df_geo['lon_bin'] = pd.cut(df_geo.iloc[:, 1], bins=lon_bins)\n",
    "\n",
    "# 각 구간마다 평균 가격 계산\n",
    "heatmap_data = (\n",
    "    df_geo.groupby(['lat_bin', 'lon_bin'])['price'].mean().reset_index()\n",
    ")\n",
    "\n",
    "# bin 중앙값을 추출해서 좌표로 사용\n",
    "heatmap_data['lat_center'] = heatmap_data['lat_bin'].apply(lambda x: x.mid)\n",
    "heatmap_data['lon_center'] = heatmap_data['lon_bin'].apply(lambda x: x.mid)\n",
    "\n",
    "# 시각화\n",
    "plt.figure(figsize=(12, 8))\n",
    "scatter = plt.scatter(\n",
    "    heatmap_data['lon_center'],\n",
    "    heatmap_data['lat_center'],\n",
    "    c=heatmap_data['price'],\n",
    "    cmap='inferno_r',\n",
    "    s=30,\n",
    "    edgecolors='black'\n",
    ")\n",
    "plt.colorbar(scatter, label='Average Price')\n",
    "plt.xlabel('Longitude')\n",
    "plt.ylabel('Latitude')\n",
    "# plt.ylim(35.55, 35.8)\n",
    "# plt.xlim(139.65, 139.8)\n",
    "plt.title('Position-Price Heatmap')\n",
    "plt.grid(True)\n",
    "plt.show()"
   ]
  }
 ],
 "metadata": {
  "kernelspec": {
   "display_name": "ml_env",
   "language": "python",
   "name": "python3"
  },
  "language_info": {
   "codemirror_mode": {
    "name": "ipython",
    "version": 3
   },
   "file_extension": ".py",
   "mimetype": "text/x-python",
   "name": "python",
   "nbconvert_exporter": "python",
   "pygments_lexer": "ipython3",
   "version": "3.12.11"
  }
 },
 "nbformat": 4,
 "nbformat_minor": 5
}
