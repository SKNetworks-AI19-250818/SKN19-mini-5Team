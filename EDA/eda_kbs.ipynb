{
 "cells": [
  {
   "cell_type": "markdown",
   "id": "b9ba8615",
   "metadata": {},
   "source": [
    "1. 데이터 로드\n",
    "2. 데이터 구조 및 기초 통계 확인\n",
    "3. 결측치 및 이상치 탐색\n",
    "4. 데이터 시각화를 통한 탐색?\n",
    "5. 데이터 정제 및 전처리\n",
    "6. 데이터 변환 및 피처 엔지니어링\n",
    "7. 데이터 분할"
   ]
  },
  {
   "cell_type": "code",
   "execution_count": null,
   "id": "6591e7d7",
   "metadata": {},
   "outputs": [],
   "source": []
  }
 ],
 "metadata": {
  "kernelspec": {
   "display_name": "ml_env",
   "language": "python",
   "name": "python3"
  },
  "language_info": {
   "codemirror_mode": {
    "name": "ipython",
    "version": 3
   },
   "file_extension": ".py",
   "mimetype": "text/x-python",
   "name": "python",
   "nbconvert_exporter": "python",
   "pygments_lexer": "ipython3",
   "version": "3.12.11"
  }
 },
 "nbformat": 4,
 "nbformat_minor": 5
}
